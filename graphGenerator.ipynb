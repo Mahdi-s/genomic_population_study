{
 "cells": [
  {
   "cell_type": "code",
   "execution_count": 1,
   "id": "a22a0780",
   "metadata": {},
   "outputs": [],
   "source": [
    "import pandas as pd\n",
    "import matplotlib.pyplot as plt"
   ]
  },
  {
   "cell_type": "code",
   "execution_count": 2,
   "id": "37eaa456",
   "metadata": {},
   "outputs": [
    {
     "data": {
      "text/html": [
       "<div>\n",
       "<style scoped>\n",
       "    .dataframe tbody tr th:only-of-type {\n",
       "        vertical-align: middle;\n",
       "    }\n",
       "\n",
       "    .dataframe tbody tr th {\n",
       "        vertical-align: top;\n",
       "    }\n",
       "\n",
       "    .dataframe thead th {\n",
       "        text-align: right;\n",
       "    }\n",
       "</style>\n",
       "<table border=\"1\" class=\"dataframe\">\n",
       "  <thead>\n",
       "    <tr style=\"text-align: right;\">\n",
       "      <th></th>\n",
       "      <th>trait name</th>\n",
       "      <th>assesment</th>\n",
       "      <th>gender</th>\n",
       "      <th>ancestry</th>\n",
       "      <th>bmi</th>\n",
       "      <th>diabetes</th>\n",
       "      <th>hypertention</th>\n",
       "    </tr>\n",
       "  </thead>\n",
       "  <tbody>\n",
       "    <tr>\n",
       "      <th>0</th>\n",
       "      <td>Achilles Tendinopathy</td>\n",
       "      <td>NORMAL</td>\n",
       "      <td>1</td>\n",
       "      <td>1</td>\n",
       "      <td>3</td>\n",
       "      <td>1</td>\n",
       "      <td>1</td>\n",
       "    </tr>\n",
       "    <tr>\n",
       "      <th>1</th>\n",
       "      <td>Aerobic performance</td>\n",
       "      <td>TYPICAL</td>\n",
       "      <td>1</td>\n",
       "      <td>1</td>\n",
       "      <td>3</td>\n",
       "      <td>1</td>\n",
       "      <td>1</td>\n",
       "    </tr>\n",
       "    <tr>\n",
       "      <th>2</th>\n",
       "      <td>Anterior Cruciate Ligament Rupture</td>\n",
       "      <td>NORMAL</td>\n",
       "      <td>1</td>\n",
       "      <td>1</td>\n",
       "      <td>3</td>\n",
       "      <td>1</td>\n",
       "      <td>1</td>\n",
       "    </tr>\n",
       "    <tr>\n",
       "      <th>3</th>\n",
       "      <td>Caffeine Metabolism Impairment</td>\n",
       "      <td>NORMAL</td>\n",
       "      <td>1</td>\n",
       "      <td>1</td>\n",
       "      <td>3</td>\n",
       "      <td>1</td>\n",
       "      <td>1</td>\n",
       "    </tr>\n",
       "    <tr>\n",
       "      <th>4</th>\n",
       "      <td>Calcium Deficiency</td>\n",
       "      <td>NORMAL</td>\n",
       "      <td>1</td>\n",
       "      <td>1</td>\n",
       "      <td>3</td>\n",
       "      <td>1</td>\n",
       "      <td>1</td>\n",
       "    </tr>\n",
       "    <tr>\n",
       "      <th>...</th>\n",
       "      <td>...</td>\n",
       "      <td>...</td>\n",
       "      <td>...</td>\n",
       "      <td>...</td>\n",
       "      <td>...</td>\n",
       "      <td>...</td>\n",
       "      <td>...</td>\n",
       "    </tr>\n",
       "    <tr>\n",
       "      <th>8531</th>\n",
       "      <td>Vitamin D Deficiency</td>\n",
       "      <td>NORMAL</td>\n",
       "      <td>1</td>\n",
       "      <td>1</td>\n",
       "      <td>2</td>\n",
       "      <td>0</td>\n",
       "      <td>1</td>\n",
       "    </tr>\n",
       "    <tr>\n",
       "      <th>8532</th>\n",
       "      <td>Vitamin E Deficiency</td>\n",
       "      <td>NORMAL</td>\n",
       "      <td>1</td>\n",
       "      <td>1</td>\n",
       "      <td>2</td>\n",
       "      <td>0</td>\n",
       "      <td>1</td>\n",
       "    </tr>\n",
       "    <tr>\n",
       "      <th>8533</th>\n",
       "      <td>Vitamin K Deficiency</td>\n",
       "      <td>NORMAL</td>\n",
       "      <td>1</td>\n",
       "      <td>1</td>\n",
       "      <td>2</td>\n",
       "      <td>0</td>\n",
       "      <td>1</td>\n",
       "    </tr>\n",
       "    <tr>\n",
       "      <th>8534</th>\n",
       "      <td>Youthfulness</td>\n",
       "      <td>TYPICAL</td>\n",
       "      <td>1</td>\n",
       "      <td>1</td>\n",
       "      <td>2</td>\n",
       "      <td>0</td>\n",
       "      <td>1</td>\n",
       "    </tr>\n",
       "    <tr>\n",
       "      <th>8535</th>\n",
       "      <td>Zinc Deficiency</td>\n",
       "      <td>NORMAL</td>\n",
       "      <td>1</td>\n",
       "      <td>1</td>\n",
       "      <td>2</td>\n",
       "      <td>0</td>\n",
       "      <td>1</td>\n",
       "    </tr>\n",
       "  </tbody>\n",
       "</table>\n",
       "<p>8536 rows × 7 columns</p>\n",
       "</div>"
      ],
      "text/plain": [
       "                              trait name assesment  gender  ancestry  bmi  \\\n",
       "0                  Achilles Tendinopathy    NORMAL       1         1    3   \n",
       "1                    Aerobic performance   TYPICAL       1         1    3   \n",
       "2     Anterior Cruciate Ligament Rupture    NORMAL       1         1    3   \n",
       "3         Caffeine Metabolism Impairment    NORMAL       1         1    3   \n",
       "4                     Calcium Deficiency    NORMAL       1         1    3   \n",
       "...                                  ...       ...     ...       ...  ...   \n",
       "8531                Vitamin D Deficiency    NORMAL       1         1    2   \n",
       "8532                Vitamin E Deficiency    NORMAL       1         1    2   \n",
       "8533                Vitamin K Deficiency    NORMAL       1         1    2   \n",
       "8534                        Youthfulness   TYPICAL       1         1    2   \n",
       "8535                     Zinc Deficiency    NORMAL       1         1    2   \n",
       "\n",
       "      diabetes  hypertention  \n",
       "0            1             1  \n",
       "1            1             1  \n",
       "2            1             1  \n",
       "3            1             1  \n",
       "4            1             1  \n",
       "...        ...           ...  \n",
       "8531         0             1  \n",
       "8532         0             1  \n",
       "8533         0             1  \n",
       "8534         0             1  \n",
       "8535         0             1  \n",
       "\n",
       "[8536 rows x 7 columns]"
      ]
     },
     "execution_count": 2,
     "metadata": {},
     "output_type": "execute_result"
    }
   ],
   "source": [
    "df = pd.read_csv('final_df2.csv')\n",
    "df"
   ]
  },
  {
   "cell_type": "code",
   "execution_count": 38,
   "id": "a64066ca",
   "metadata": {},
   "outputs": [
    {
     "data": {
      "text/plain": [
       "['Achilles Tendinopathy',\n",
       " 'Aerobic performance',\n",
       " 'Anterior Cruciate Ligament Rupture',\n",
       " 'Caffeine Metabolism Impairment',\n",
       " 'Calcium Deficiency',\n",
       " 'Carb Overconsumption',\n",
       " 'Choline Deficiency',\n",
       " 'Coenzyme Q10 Deficiency',\n",
       " 'Collagen Breakdown',\n",
       " 'Copper Deficiency',\n",
       " 'Difficulty in Losing Weight',\n",
       " 'Dryness',\n",
       " 'Elite Endurance Athletes',\n",
       " 'Endurance',\n",
       " 'Exercise Aversion',\n",
       " 'Exercise Benefits for Blood Pressure',\n",
       " 'Exercise Benefits for Lowering Cholesterol',\n",
       " 'Exercise Benefits for Maximal Oxygen Uptake Response',\n",
       " 'Facial Pigmented Spots',\n",
       " 'Fat Overconsumption',\n",
       " 'Fat Taste Perception',\n",
       " 'General Food Sensitivities',\n",
       " 'Gluten Sensitivity',\n",
       " 'Heartbeat Reduction Difficulty',\n",
       " 'Iron Deficiency',\n",
       " 'Iron Overload',\n",
       " 'Joint Flexibility',\n",
       " 'Joint Injury Risk',\n",
       " 'Lactose Intolerance',\n",
       " 'Lean Body Mass Potential',\n",
       " 'Low Protein Intake Risk',\n",
       " 'Low Resting Metabolic Rate',\n",
       " 'Low-carb Diet Effectiveness',\n",
       " 'Low-fat Diet Effectiveness',\n",
       " 'Lower Exercise Benefits for Heart Pump Function',\n",
       " 'Lutein and Zeaxanthin Deficiency',\n",
       " 'Lycopene Deficiency',\n",
       " 'Magnesium Deficiency',\n",
       " 'Mediterranean Diet Effectiveness',\n",
       " 'Memory Performance',\n",
       " 'Misophonia',\n",
       " 'Monounsaturated Fats Increased Benefits',\n",
       " 'Motion Sickness',\n",
       " 'Muscle Cramping',\n",
       " 'Muscle Damage Risk',\n",
       " 'Muscle Response to Resistance Training',\n",
       " 'Muscle Soreness',\n",
       " 'Muscle Strength Loss',\n",
       " 'Muscular Strength',\n",
       " 'Noise-induced hearing loss',\n",
       " 'Overall Fitness Benefits',\n",
       " 'Overall Tendon and Ligament Injury Risk',\n",
       " 'Overweight Potential',\n",
       " 'Phosphorus Deficiency',\n",
       " 'Photoaging',\n",
       " 'Polyunsaturated Fats Increased Benefits',\n",
       " 'Power',\n",
       " 'Reading Aptitude',\n",
       " 'Resistance to Stomach Flu',\n",
       " 'Risk from Saturated Fats',\n",
       " 'Sagging Eyelids Risk',\n",
       " 'Satiety Impairment',\n",
       " 'Seasonality',\n",
       " 'Selenium Deficiency',\n",
       " 'Sensitivity to Salt',\n",
       " 'Skeletal Muscle Performance',\n",
       " 'Slow Muscle Repair',\n",
       " 'Snacking',\n",
       " 'Starch Metabolism',\n",
       " 'Stress Fracture',\n",
       " 'Sweet Snack Preference',\n",
       " 'Sweet Tooth',\n",
       " 'Trans Fats Sensitivity',\n",
       " 'Vitamin A (Carotene) Deficiency',\n",
       " 'Vitamin A (Retinol) Deficiency',\n",
       " 'Vitamin B12 Deficiency',\n",
       " 'Vitamin B2 Deficiency',\n",
       " 'Vitamin B3 Deficiency',\n",
       " 'Vitamin B5 Deficiency',\n",
       " 'Vitamin B6 Deficiency',\n",
       " 'Vitamin B7 Deficiency',\n",
       " 'Vitamin B9 Deficiency',\n",
       " 'Vitamin C Deficiency',\n",
       " 'Vitamin D Deficiency',\n",
       " 'Vitamin E Deficiency',\n",
       " 'Vitamin K Deficiency',\n",
       " 'Youthfulness',\n",
       " 'Zinc Deficiency']"
      ]
     },
     "execution_count": 38,
     "metadata": {},
     "output_type": "execute_result"
    }
   ],
   "source": [
    "#unique assesments present in the chosen group\n",
    "traitNames = df['trait name'].unique().tolist()\n",
    "traitNames"
   ]
  },
  {
   "cell_type": "code",
   "execution_count": 58,
   "id": "caa1acee",
   "metadata": {},
   "outputs": [
    {
     "data": {
      "text/html": [
       "<div>\n",
       "<style scoped>\n",
       "    .dataframe tbody tr th:only-of-type {\n",
       "        vertical-align: middle;\n",
       "    }\n",
       "\n",
       "    .dataframe tbody tr th {\n",
       "        vertical-align: top;\n",
       "    }\n",
       "\n",
       "    .dataframe thead th {\n",
       "        text-align: right;\n",
       "    }\n",
       "</style>\n",
       "<table border=\"1\" class=\"dataframe\">\n",
       "  <thead>\n",
       "    <tr style=\"text-align: right;\">\n",
       "      <th></th>\n",
       "      <th>assesment</th>\n",
       "      <th>gender</th>\n",
       "      <th>ancestry</th>\n",
       "      <th>bmi</th>\n",
       "      <th>diabetes</th>\n",
       "      <th>hypertention</th>\n",
       "    </tr>\n",
       "    <tr>\n",
       "      <th>trait name</th>\n",
       "      <th></th>\n",
       "      <th></th>\n",
       "      <th></th>\n",
       "      <th></th>\n",
       "      <th></th>\n",
       "      <th></th>\n",
       "    </tr>\n",
       "  </thead>\n",
       "  <tbody>\n",
       "    <tr>\n",
       "      <th>Achilles Tendinopathy</th>\n",
       "      <td>NORMAL</td>\n",
       "      <td>1</td>\n",
       "      <td>1</td>\n",
       "      <td>3</td>\n",
       "      <td>1</td>\n",
       "      <td>1</td>\n",
       "    </tr>\n",
       "    <tr>\n",
       "      <th>Aerobic performance</th>\n",
       "      <td>TYPICAL</td>\n",
       "      <td>1</td>\n",
       "      <td>1</td>\n",
       "      <td>3</td>\n",
       "      <td>1</td>\n",
       "      <td>1</td>\n",
       "    </tr>\n",
       "    <tr>\n",
       "      <th>Anterior Cruciate Ligament Rupture</th>\n",
       "      <td>NORMAL</td>\n",
       "      <td>1</td>\n",
       "      <td>1</td>\n",
       "      <td>3</td>\n",
       "      <td>1</td>\n",
       "      <td>1</td>\n",
       "    </tr>\n",
       "    <tr>\n",
       "      <th>Caffeine Metabolism Impairment</th>\n",
       "      <td>NORMAL</td>\n",
       "      <td>1</td>\n",
       "      <td>1</td>\n",
       "      <td>3</td>\n",
       "      <td>1</td>\n",
       "      <td>1</td>\n",
       "    </tr>\n",
       "    <tr>\n",
       "      <th>Calcium Deficiency</th>\n",
       "      <td>NORMAL</td>\n",
       "      <td>1</td>\n",
       "      <td>1</td>\n",
       "      <td>3</td>\n",
       "      <td>1</td>\n",
       "      <td>1</td>\n",
       "    </tr>\n",
       "    <tr>\n",
       "      <th>...</th>\n",
       "      <td>...</td>\n",
       "      <td>...</td>\n",
       "      <td>...</td>\n",
       "      <td>...</td>\n",
       "      <td>...</td>\n",
       "      <td>...</td>\n",
       "    </tr>\n",
       "    <tr>\n",
       "      <th>Vitamin D Deficiency</th>\n",
       "      <td>NORMAL</td>\n",
       "      <td>1</td>\n",
       "      <td>1</td>\n",
       "      <td>3</td>\n",
       "      <td>1</td>\n",
       "      <td>1</td>\n",
       "    </tr>\n",
       "    <tr>\n",
       "      <th>Vitamin E Deficiency</th>\n",
       "      <td>NORMAL</td>\n",
       "      <td>1</td>\n",
       "      <td>1</td>\n",
       "      <td>3</td>\n",
       "      <td>1</td>\n",
       "      <td>1</td>\n",
       "    </tr>\n",
       "    <tr>\n",
       "      <th>Vitamin K Deficiency</th>\n",
       "      <td>NORMAL</td>\n",
       "      <td>1</td>\n",
       "      <td>1</td>\n",
       "      <td>3</td>\n",
       "      <td>1</td>\n",
       "      <td>1</td>\n",
       "    </tr>\n",
       "    <tr>\n",
       "      <th>Youthfulness</th>\n",
       "      <td>TYPICAL</td>\n",
       "      <td>1</td>\n",
       "      <td>1</td>\n",
       "      <td>3</td>\n",
       "      <td>1</td>\n",
       "      <td>1</td>\n",
       "    </tr>\n",
       "    <tr>\n",
       "      <th>Zinc Deficiency</th>\n",
       "      <td>NORMAL</td>\n",
       "      <td>1</td>\n",
       "      <td>1</td>\n",
       "      <td>3</td>\n",
       "      <td>1</td>\n",
       "      <td>1</td>\n",
       "    </tr>\n",
       "  </tbody>\n",
       "</table>\n",
       "<p>88 rows × 6 columns</p>\n",
       "</div>"
      ],
      "text/plain": [
       "                                   assesment  gender  ancestry  bmi  diabetes  \\\n",
       "trait name                                                                      \n",
       "Achilles Tendinopathy                 NORMAL       1         1    3         1   \n",
       "Aerobic performance                  TYPICAL       1         1    3         1   \n",
       "Anterior Cruciate Ligament Rupture    NORMAL       1         1    3         1   \n",
       "Caffeine Metabolism Impairment        NORMAL       1         1    3         1   \n",
       "Calcium Deficiency                    NORMAL       1         1    3         1   \n",
       "...                                      ...     ...       ...  ...       ...   \n",
       "Vitamin D Deficiency                  NORMAL       1         1    3         1   \n",
       "Vitamin E Deficiency                  NORMAL       1         1    3         1   \n",
       "Vitamin K Deficiency                  NORMAL       1         1    3         1   \n",
       "Youthfulness                         TYPICAL       1         1    3         1   \n",
       "Zinc Deficiency                       NORMAL       1         1    3         1   \n",
       "\n",
       "                                    hypertention  \n",
       "trait name                                        \n",
       "Achilles Tendinopathy                          1  \n",
       "Aerobic performance                            1  \n",
       "Anterior Cruciate Ligament Rupture             1  \n",
       "Caffeine Metabolism Impairment                 1  \n",
       "Calcium Deficiency                             1  \n",
       "...                                          ...  \n",
       "Vitamin D Deficiency                           1  \n",
       "Vitamin E Deficiency                           1  \n",
       "Vitamin K Deficiency                           1  \n",
       "Youthfulness                                   1  \n",
       "Zinc Deficiency                                1  \n",
       "\n",
       "[88 rows x 6 columns]"
      ]
     },
     "execution_count": 58,
     "metadata": {},
     "output_type": "execute_result"
    }
   ],
   "source": [
    "newdf= df.groupby('trait name')\n",
    "newdf.first()"
   ]
  },
  {
   "cell_type": "code",
   "execution_count": 59,
   "id": "99f77112",
   "metadata": {},
   "outputs": [],
   "source": [
    "traitName = 'Anterior Cruciate Ligament Rupture'\n",
    "# we will add lack or prese\n",
    "title_part1 = 'Percentages of Gender & Ancestry Segmentations for ' \n",
    "title_part2 = ' of hypertention & diabetes for ' + traitName \n",
    "graph_title_lack = title_part1 + 'lack' + title_part2\n",
    "graph_title_presence = title_part1 + 'presence' + title_part2"
   ]
  },
  {
   "cell_type": "code",
   "execution_count": 66,
   "id": "e2aef5a2",
   "metadata": {},
   "outputs": [
    {
     "data": {
      "text/html": [
       "<div>\n",
       "<style scoped>\n",
       "    .dataframe tbody tr th:only-of-type {\n",
       "        vertical-align: middle;\n",
       "    }\n",
       "\n",
       "    .dataframe tbody tr th {\n",
       "        vertical-align: top;\n",
       "    }\n",
       "\n",
       "    .dataframe thead th {\n",
       "        text-align: right;\n",
       "    }\n",
       "</style>\n",
       "<table border=\"1\" class=\"dataframe\">\n",
       "  <thead>\n",
       "    <tr style=\"text-align: right;\">\n",
       "      <th></th>\n",
       "      <th>trait name</th>\n",
       "      <th>assesment</th>\n",
       "      <th>gender</th>\n",
       "      <th>ancestry</th>\n",
       "      <th>bmi</th>\n",
       "      <th>diabetes</th>\n",
       "      <th>hypertention</th>\n",
       "    </tr>\n",
       "  </thead>\n",
       "  <tbody>\n",
       "    <tr>\n",
       "      <th>0</th>\n",
       "      <td>Achilles Tendinopathy</td>\n",
       "      <td>NORMAL</td>\n",
       "      <td>1</td>\n",
       "      <td>1</td>\n",
       "      <td>3</td>\n",
       "      <td>1</td>\n",
       "      <td>1</td>\n",
       "    </tr>\n",
       "    <tr>\n",
       "      <th>88</th>\n",
       "      <td>Achilles Tendinopathy</td>\n",
       "      <td>NORMAL</td>\n",
       "      <td>1</td>\n",
       "      <td>0</td>\n",
       "      <td>3</td>\n",
       "      <td>1</td>\n",
       "      <td>1</td>\n",
       "    </tr>\n",
       "    <tr>\n",
       "      <th>176</th>\n",
       "      <td>Achilles Tendinopathy</td>\n",
       "      <td>NORMAL</td>\n",
       "      <td>1</td>\n",
       "      <td>1</td>\n",
       "      <td>2</td>\n",
       "      <td>0</td>\n",
       "      <td>1</td>\n",
       "    </tr>\n",
       "    <tr>\n",
       "      <th>264</th>\n",
       "      <td>Achilles Tendinopathy</td>\n",
       "      <td>NORMAL</td>\n",
       "      <td>0</td>\n",
       "      <td>0</td>\n",
       "      <td>3</td>\n",
       "      <td>1</td>\n",
       "      <td>1</td>\n",
       "    </tr>\n",
       "    <tr>\n",
       "      <th>352</th>\n",
       "      <td>Achilles Tendinopathy</td>\n",
       "      <td>NORMAL</td>\n",
       "      <td>1</td>\n",
       "      <td>1</td>\n",
       "      <td>1</td>\n",
       "      <td>0</td>\n",
       "      <td>1</td>\n",
       "    </tr>\n",
       "    <tr>\n",
       "      <th>...</th>\n",
       "      <td>...</td>\n",
       "      <td>...</td>\n",
       "      <td>...</td>\n",
       "      <td>...</td>\n",
       "      <td>...</td>\n",
       "      <td>...</td>\n",
       "      <td>...</td>\n",
       "    </tr>\n",
       "    <tr>\n",
       "      <th>8096</th>\n",
       "      <td>Achilles Tendinopathy</td>\n",
       "      <td>NORMAL</td>\n",
       "      <td>0</td>\n",
       "      <td>1</td>\n",
       "      <td>3</td>\n",
       "      <td>0</td>\n",
       "      <td>1</td>\n",
       "    </tr>\n",
       "    <tr>\n",
       "      <th>8184</th>\n",
       "      <td>Achilles Tendinopathy</td>\n",
       "      <td>NORMAL</td>\n",
       "      <td>1</td>\n",
       "      <td>1</td>\n",
       "      <td>1</td>\n",
       "      <td>0</td>\n",
       "      <td>1</td>\n",
       "    </tr>\n",
       "    <tr>\n",
       "      <th>8272</th>\n",
       "      <td>Achilles Tendinopathy</td>\n",
       "      <td>NORMAL</td>\n",
       "      <td>1</td>\n",
       "      <td>1</td>\n",
       "      <td>3</td>\n",
       "      <td>0</td>\n",
       "      <td>1</td>\n",
       "    </tr>\n",
       "    <tr>\n",
       "      <th>8360</th>\n",
       "      <td>Achilles Tendinopathy</td>\n",
       "      <td>NORMAL</td>\n",
       "      <td>0</td>\n",
       "      <td>1</td>\n",
       "      <td>2</td>\n",
       "      <td>0</td>\n",
       "      <td>0</td>\n",
       "    </tr>\n",
       "    <tr>\n",
       "      <th>8448</th>\n",
       "      <td>Achilles Tendinopathy</td>\n",
       "      <td>NORMAL</td>\n",
       "      <td>1</td>\n",
       "      <td>1</td>\n",
       "      <td>2</td>\n",
       "      <td>0</td>\n",
       "      <td>1</td>\n",
       "    </tr>\n",
       "  </tbody>\n",
       "</table>\n",
       "<p>97 rows × 7 columns</p>\n",
       "</div>"
      ],
      "text/plain": [
       "                 trait name assesment  gender  ancestry  bmi  diabetes  \\\n",
       "0     Achilles Tendinopathy    NORMAL       1         1    3         1   \n",
       "88    Achilles Tendinopathy    NORMAL       1         0    3         1   \n",
       "176   Achilles Tendinopathy    NORMAL       1         1    2         0   \n",
       "264   Achilles Tendinopathy    NORMAL       0         0    3         1   \n",
       "352   Achilles Tendinopathy    NORMAL       1         1    1         0   \n",
       "...                     ...       ...     ...       ...  ...       ...   \n",
       "8096  Achilles Tendinopathy    NORMAL       0         1    3         0   \n",
       "8184  Achilles Tendinopathy    NORMAL       1         1    1         0   \n",
       "8272  Achilles Tendinopathy    NORMAL       1         1    3         0   \n",
       "8360  Achilles Tendinopathy    NORMAL       0         1    2         0   \n",
       "8448  Achilles Tendinopathy    NORMAL       1         1    2         0   \n",
       "\n",
       "      hypertention  \n",
       "0                1  \n",
       "88               1  \n",
       "176              1  \n",
       "264              1  \n",
       "352              1  \n",
       "...            ...  \n",
       "8096             1  \n",
       "8184             1  \n",
       "8272             1  \n",
       "8360             0  \n",
       "8448             1  \n",
       "\n",
       "[97 rows x 7 columns]"
      ]
     },
     "execution_count": 66,
     "metadata": {},
     "output_type": "execute_result"
    }
   ],
   "source": [
    "data=newdf.get_group(traitName)\n",
    "data"
   ]
  },
  {
   "cell_type": "code",
   "execution_count": 55,
   "id": "67440c4b",
   "metadata": {},
   "outputs": [
    {
     "data": {
      "text/plain": [
       "array(['NORMAL'], dtype=object)"
      ]
     },
     "execution_count": 55,
     "metadata": {},
     "output_type": "execute_result"
    }
   ],
   "source": [
    "#unique assesments present in the chosen group\n",
    "data['assesment'].unique()"
   ]
  },
  {
   "cell_type": "code",
   "execution_count": 67,
   "id": "e9973932",
   "metadata": {},
   "outputs": [
    {
     "data": {
      "text/html": [
       "<div>\n",
       "<style scoped>\n",
       "    .dataframe tbody tr th:only-of-type {\n",
       "        vertical-align: middle;\n",
       "    }\n",
       "\n",
       "    .dataframe tbody tr th {\n",
       "        vertical-align: top;\n",
       "    }\n",
       "\n",
       "    .dataframe thead th {\n",
       "        text-align: right;\n",
       "    }\n",
       "</style>\n",
       "<table border=\"1\" class=\"dataframe\">\n",
       "  <thead>\n",
       "    <tr style=\"text-align: right;\">\n",
       "      <th></th>\n",
       "      <th>assesment</th>\n",
       "      <th>gender</th>\n",
       "      <th>ancestry</th>\n",
       "      <th>bmi</th>\n",
       "      <th>diabetes</th>\n",
       "      <th>hypertention</th>\n",
       "    </tr>\n",
       "  </thead>\n",
       "  <tbody>\n",
       "    <tr>\n",
       "      <th>0</th>\n",
       "      <td>NORMAL</td>\n",
       "      <td>1</td>\n",
       "      <td>1</td>\n",
       "      <td>3</td>\n",
       "      <td>1</td>\n",
       "      <td>1</td>\n",
       "    </tr>\n",
       "    <tr>\n",
       "      <th>88</th>\n",
       "      <td>NORMAL</td>\n",
       "      <td>1</td>\n",
       "      <td>0</td>\n",
       "      <td>3</td>\n",
       "      <td>1</td>\n",
       "      <td>1</td>\n",
       "    </tr>\n",
       "    <tr>\n",
       "      <th>176</th>\n",
       "      <td>NORMAL</td>\n",
       "      <td>1</td>\n",
       "      <td>1</td>\n",
       "      <td>2</td>\n",
       "      <td>0</td>\n",
       "      <td>1</td>\n",
       "    </tr>\n",
       "    <tr>\n",
       "      <th>264</th>\n",
       "      <td>NORMAL</td>\n",
       "      <td>0</td>\n",
       "      <td>0</td>\n",
       "      <td>3</td>\n",
       "      <td>1</td>\n",
       "      <td>1</td>\n",
       "    </tr>\n",
       "    <tr>\n",
       "      <th>352</th>\n",
       "      <td>NORMAL</td>\n",
       "      <td>1</td>\n",
       "      <td>1</td>\n",
       "      <td>1</td>\n",
       "      <td>0</td>\n",
       "      <td>1</td>\n",
       "    </tr>\n",
       "    <tr>\n",
       "      <th>...</th>\n",
       "      <td>...</td>\n",
       "      <td>...</td>\n",
       "      <td>...</td>\n",
       "      <td>...</td>\n",
       "      <td>...</td>\n",
       "      <td>...</td>\n",
       "    </tr>\n",
       "    <tr>\n",
       "      <th>8096</th>\n",
       "      <td>NORMAL</td>\n",
       "      <td>0</td>\n",
       "      <td>1</td>\n",
       "      <td>3</td>\n",
       "      <td>0</td>\n",
       "      <td>1</td>\n",
       "    </tr>\n",
       "    <tr>\n",
       "      <th>8184</th>\n",
       "      <td>NORMAL</td>\n",
       "      <td>1</td>\n",
       "      <td>1</td>\n",
       "      <td>1</td>\n",
       "      <td>0</td>\n",
       "      <td>1</td>\n",
       "    </tr>\n",
       "    <tr>\n",
       "      <th>8272</th>\n",
       "      <td>NORMAL</td>\n",
       "      <td>1</td>\n",
       "      <td>1</td>\n",
       "      <td>3</td>\n",
       "      <td>0</td>\n",
       "      <td>1</td>\n",
       "    </tr>\n",
       "    <tr>\n",
       "      <th>8360</th>\n",
       "      <td>NORMAL</td>\n",
       "      <td>0</td>\n",
       "      <td>1</td>\n",
       "      <td>2</td>\n",
       "      <td>0</td>\n",
       "      <td>0</td>\n",
       "    </tr>\n",
       "    <tr>\n",
       "      <th>8448</th>\n",
       "      <td>NORMAL</td>\n",
       "      <td>1</td>\n",
       "      <td>1</td>\n",
       "      <td>2</td>\n",
       "      <td>0</td>\n",
       "      <td>1</td>\n",
       "    </tr>\n",
       "  </tbody>\n",
       "</table>\n",
       "<p>97 rows × 6 columns</p>\n",
       "</div>"
      ],
      "text/plain": [
       "     assesment  gender  ancestry  bmi  diabetes  hypertention\n",
       "0       NORMAL       1         1    3         1             1\n",
       "88      NORMAL       1         0    3         1             1\n",
       "176     NORMAL       1         1    2         0             1\n",
       "264     NORMAL       0         0    3         1             1\n",
       "352     NORMAL       1         1    1         0             1\n",
       "...        ...     ...       ...  ...       ...           ...\n",
       "8096    NORMAL       0         1    3         0             1\n",
       "8184    NORMAL       1         1    1         0             1\n",
       "8272    NORMAL       1         1    3         0             1\n",
       "8360    NORMAL       0         1    2         0             0\n",
       "8448    NORMAL       1         1    2         0             1\n",
       "\n",
       "[97 rows x 6 columns]"
      ]
     },
     "execution_count": 67,
     "metadata": {},
     "output_type": "execute_result"
    }
   ],
   "source": [
    "#drop train name from set for easier analysis\n",
    "data = data.iloc[: , 1:]\n",
    "data"
   ]
  },
  {
   "cell_type": "markdown",
   "id": "1a260e83",
   "metadata": {},
   "source": [
    "### Graph for lack of diabetes and hypertention"
   ]
  },
  {
   "cell_type": "code",
   "execution_count": 78,
   "id": "b1a63015",
   "metadata": {},
   "outputs": [
    {
     "name": "stderr",
     "output_type": "stream",
     "text": [
      "<ipython-input-78-18ce0ec7d307>:1: FutureWarning: Indexing with multiple keys (implicitly converted to a tuple of keys) will be deprecated, use a list instead.\n",
      "  graph_data_percentage=data.groupby(['gender','ancestry', 'bmi'])['hypertention', 'diabetes'].apply(lambda x: (x==0).sum().apply(lambda x: ((x/97)*100)))\n"
     ]
    },
    {
     "data": {
      "text/html": [
       "<div>\n",
       "<style scoped>\n",
       "    .dataframe tbody tr th:only-of-type {\n",
       "        vertical-align: middle;\n",
       "    }\n",
       "\n",
       "    .dataframe tbody tr th {\n",
       "        vertical-align: top;\n",
       "    }\n",
       "\n",
       "    .dataframe thead th {\n",
       "        text-align: right;\n",
       "    }\n",
       "</style>\n",
       "<table border=\"1\" class=\"dataframe\">\n",
       "  <thead>\n",
       "    <tr style=\"text-align: right;\">\n",
       "      <th></th>\n",
       "      <th></th>\n",
       "      <th></th>\n",
       "      <th>hypertention</th>\n",
       "      <th>diabetes</th>\n",
       "    </tr>\n",
       "    <tr>\n",
       "      <th>gender</th>\n",
       "      <th>ancestry</th>\n",
       "      <th>bmi</th>\n",
       "      <th></th>\n",
       "      <th></th>\n",
       "    </tr>\n",
       "  </thead>\n",
       "  <tbody>\n",
       "    <tr>\n",
       "      <th rowspan=\"6\" valign=\"top\">0</th>\n",
       "      <th rowspan=\"3\" valign=\"top\">0</th>\n",
       "      <th>1</th>\n",
       "      <td>1.030928</td>\n",
       "      <td>1.030928</td>\n",
       "    </tr>\n",
       "    <tr>\n",
       "      <th>2</th>\n",
       "      <td>1.030928</td>\n",
       "      <td>3.092784</td>\n",
       "    </tr>\n",
       "    <tr>\n",
       "      <th>3</th>\n",
       "      <td>0.000000</td>\n",
       "      <td>1.030928</td>\n",
       "    </tr>\n",
       "    <tr>\n",
       "      <th rowspan=\"3\" valign=\"top\">1</th>\n",
       "      <th>1</th>\n",
       "      <td>3.092784</td>\n",
       "      <td>7.216495</td>\n",
       "    </tr>\n",
       "    <tr>\n",
       "      <th>2</th>\n",
       "      <td>6.185567</td>\n",
       "      <td>17.525773</td>\n",
       "    </tr>\n",
       "    <tr>\n",
       "      <th>3</th>\n",
       "      <td>2.061856</td>\n",
       "      <td>6.185567</td>\n",
       "    </tr>\n",
       "    <tr>\n",
       "      <th rowspan=\"7\" valign=\"top\">1</th>\n",
       "      <th rowspan=\"3\" valign=\"top\">0</th>\n",
       "      <th>1</th>\n",
       "      <td>0.000000</td>\n",
       "      <td>1.030928</td>\n",
       "    </tr>\n",
       "    <tr>\n",
       "      <th>2</th>\n",
       "      <td>0.000000</td>\n",
       "      <td>0.000000</td>\n",
       "    </tr>\n",
       "    <tr>\n",
       "      <th>3</th>\n",
       "      <td>0.000000</td>\n",
       "      <td>3.092784</td>\n",
       "    </tr>\n",
       "    <tr>\n",
       "      <th rowspan=\"4\" valign=\"top\">1</th>\n",
       "      <th>0</th>\n",
       "      <td>0.000000</td>\n",
       "      <td>1.030928</td>\n",
       "    </tr>\n",
       "    <tr>\n",
       "      <th>1</th>\n",
       "      <td>0.000000</td>\n",
       "      <td>8.247423</td>\n",
       "    </tr>\n",
       "    <tr>\n",
       "      <th>2</th>\n",
       "      <td>0.000000</td>\n",
       "      <td>7.216495</td>\n",
       "    </tr>\n",
       "    <tr>\n",
       "      <th>3</th>\n",
       "      <td>0.000000</td>\n",
       "      <td>7.216495</td>\n",
       "    </tr>\n",
       "  </tbody>\n",
       "</table>\n",
       "</div>"
      ],
      "text/plain": [
       "                     hypertention   diabetes\n",
       "gender ancestry bmi                         \n",
       "0      0        1        1.030928   1.030928\n",
       "                2        1.030928   3.092784\n",
       "                3        0.000000   1.030928\n",
       "       1        1        3.092784   7.216495\n",
       "                2        6.185567  17.525773\n",
       "                3        2.061856   6.185567\n",
       "1      0        1        0.000000   1.030928\n",
       "                2        0.000000   0.000000\n",
       "                3        0.000000   3.092784\n",
       "       1        0        0.000000   1.030928\n",
       "                1        0.000000   8.247423\n",
       "                2        0.000000   7.216495\n",
       "                3        0.000000   7.216495"
      ]
     },
     "execution_count": 78,
     "metadata": {},
     "output_type": "execute_result"
    }
   ],
   "source": [
    "graph_data_percentage=data.groupby(['gender','ancestry', 'bmi'])['hypertention', 'diabetes'].apply(lambda x: (x==0).sum().apply(lambda x: ((x/97)*100)))\n",
    "graph_data_percentage"
   ]
  },
  {
   "cell_type": "code",
   "execution_count": 84,
   "id": "943b9f41",
   "metadata": {},
   "outputs": [
    {
     "data": {
      "image/png": "[encoded data removed]",
      "text/plain": [
       "<Figure size 1080x1080 with 1 Axes>"
      ]
     },
     "metadata": {
      "needs_background": "light"
     },
     "output_type": "display_data"
    }
   ],
   "source": [
    "graph_data_percentage.plot(kind='barh',stacked=True,rot=1, title=graph_title_lack, figsize=(15,15))\n",
    "plt.yticks(ticks = [0,1,2,3,4,5,6,7,8,9,10,11,12],labels = ['(M,AA,Healthy)', '(M,AA,Overweight)','(M,AA,Obesity)','(M,CAU,Healthy)','(M,CAU,Overweight)','(M,CAU,Obesity)','(F,AA,Healthy)','(F,AA,Overweight)','(F,AA,Obesity)','(F,CAU,Under)','(F,CAU,Healthy)','(F,CAU,Overweight)','(F,CAU,Obesity)'], rotation = 'horizontal')\n",
    "plt.show()"
   ]
  },
  {
   "cell_type": "markdown",
   "id": "d6179304",
   "metadata": {},
   "source": [
    "### Graph for presence of diabetes and hypertention"
   ]
  },
  {
   "cell_type": "code",
   "execution_count": 24,
   "id": "3c4baea3",
   "metadata": {},
   "outputs": [
    {
     "name": "stderr",
     "output_type": "stream",
     "text": [
      "<ipython-input-24-edfb4bb7aa1b>:1: FutureWarning: Indexing with multiple keys (implicitly converted to a tuple of keys) will be deprecated, use a list instead.\n",
      "  graph_data_percentage2=data.groupby(['gender','ancestry'])['hypertention', 'diabetes'].apply(lambda x: (x==1).sum().apply(lambda x: ((x/97)*100)))\n"
     ]
    },
    {
     "data": {
      "text/html": [
       "<div>\n",
       "<style scoped>\n",
       "    .dataframe tbody tr th:only-of-type {\n",
       "        vertical-align: middle;\n",
       "    }\n",
       "\n",
       "    .dataframe tbody tr th {\n",
       "        vertical-align: top;\n",
       "    }\n",
       "\n",
       "    .dataframe thead th {\n",
       "        text-align: right;\n",
       "    }\n",
       "</style>\n",
       "<table border=\"1\" class=\"dataframe\">\n",
       "  <thead>\n",
       "    <tr style=\"text-align: right;\">\n",
       "      <th></th>\n",
       "      <th></th>\n",
       "      <th>hypertention</th>\n",
       "      <th>diabetes</th>\n",
       "    </tr>\n",
       "    <tr>\n",
       "      <th>gender</th>\n",
       "      <th>ancestry</th>\n",
       "      <th></th>\n",
       "      <th></th>\n",
       "    </tr>\n",
       "  </thead>\n",
       "  <tbody>\n",
       "    <tr>\n",
       "      <th rowspan=\"2\" valign=\"top\">0</th>\n",
       "      <th>0</th>\n",
       "      <td>5.154639</td>\n",
       "      <td>2.061856</td>\n",
       "    </tr>\n",
       "    <tr>\n",
       "      <th>1</th>\n",
       "      <td>31.958763</td>\n",
       "      <td>12.371134</td>\n",
       "    </tr>\n",
       "    <tr>\n",
       "      <th rowspan=\"2\" valign=\"top\">1</th>\n",
       "      <th>0</th>\n",
       "      <td>16.494845</td>\n",
       "      <td>12.371134</td>\n",
       "    </tr>\n",
       "    <tr>\n",
       "      <th>1</th>\n",
       "      <td>32.989691</td>\n",
       "      <td>9.278351</td>\n",
       "    </tr>\n",
       "  </tbody>\n",
       "</table>\n",
       "</div>"
      ],
      "text/plain": [
       "                 hypertention   diabetes\n",
       "gender ancestry                         \n",
       "0      0             5.154639   2.061856\n",
       "       1            31.958763  12.371134\n",
       "1      0            16.494845  12.371134\n",
       "       1            32.989691   9.278351"
      ]
     },
     "execution_count": 24,
     "metadata": {},
     "output_type": "execute_result"
    }
   ],
   "source": [
    "graph_data_percentage2=data.groupby(['gender','ancestry'])['hypertention', 'diabetes'].apply(lambda x: (x==1).sum().apply(lambda x: ((x/97)*100)))\n",
    "graph_data_percentage2"
   ]
  },
  {
   "cell_type": "code",
   "execution_count": 25,
   "id": "6c37bfa7",
   "metadata": {},
   "outputs": [
    {
     "data": {
      "image/png": "[encoded data removed]",
      "text/plain": [
       "<Figure size 1080x1080 with 1 Axes>"
      ]
     },
     "metadata": {
      "needs_background": "light"
     },
     "output_type": "display_data"
    }
   ],
   "source": [
    "graph_data_percentage2.plot(kind='barh',stacked=True,rot=1, title=graph_title_presence, figsize=(15,15))\n",
    "plt.yticks(ticks = [0,1,2,3],labels = ['(M,AA)','(M,CAU)','(F,AA)','(F,CAU)'], rotation = 'horizontal')\n",
    "plt.show()"
   ]
  },
  {
   "cell_type": "markdown",
   "id": "7fb6c758",
   "metadata": {},
   "source": [
    "### Automatic Graph Generation for all traits"
   ]
  },
  {
   "cell_type": "code",
   "execution_count": 87,
   "id": "077a6757",
   "metadata": {},
   "outputs": [
    {
     "name": "stderr",
     "output_type": "stream",
     "text": [
      "<ipython-input-87-71f6057c3014>:25: FutureWarning: Indexing with multiple keys (implicitly converted to a tuple of keys) will be deprecated, use a list instead.\n",
      "  data_for_lack=graph_data.groupby(['gender','ancestry', 'bmi'])['hypertention', 'diabetes'].apply(lambda x: (x==0).sum().apply(lambda x: ((x/97)*100)))\n",
      "<ipython-input-87-71f6057c3014>:26: FutureWarning: Indexing with multiple keys (implicitly converted to a tuple of keys) will be deprecated, use a list instead.\n",
      "  data_for_presence=graph_data.groupby(['gender','ancestry', 'bmi'])['hypertention', 'diabetes'].apply(lambda x: (x==0).sum().apply(lambda x: ((x/97)*100)))\n",
      "<ipython-input-87-71f6057c3014>:25: FutureWarning: Indexing with multiple keys (implicitly converted to a tuple of keys) will be deprecated, use a list instead.\n",
      "  data_for_lack=graph_data.groupby(['gender','ancestry', 'bmi'])['hypertention', 'diabetes'].apply(lambda x: (x==0).sum().apply(lambda x: ((x/97)*100)))\n",
      "<ipython-input-87-71f6057c3014>:26: FutureWarning: Indexing with multiple keys (implicitly converted to a tuple of keys) will be deprecated, use a list instead.\n",
      "  data_for_presence=graph_data.groupby(['gender','ancestry', 'bmi'])['hypertention', 'diabetes'].apply(lambda x: (x==0).sum().apply(lambda x: ((x/97)*100)))\n",
      "<ipython-input-87-71f6057c3014>:25: FutureWarning: Indexing with multiple keys (implicitly converted to a tuple of keys) will be deprecated, use a list instead.\n",
      "  data_for_lack=graph_data.groupby(['gender','ancestry', 'bmi'])['hypertention', 'diabetes'].apply(lambda x: (x==0).sum().apply(lambda x: ((x/97)*100)))\n",
      "<ipython-input-87-71f6057c3014>:26: FutureWarning: Indexing with multiple keys (implicitly converted to a tuple of keys) will be deprecated, use a list instead.\n",
      "  data_for_presence=graph_data.groupby(['gender','ancestry', 'bmi'])['hypertention', 'diabetes'].apply(lambda x: (x==0).sum().apply(lambda x: ((x/97)*100)))\n",
      "<ipython-input-87-71f6057c3014>:25: FutureWarning: Indexing with multiple keys (implicitly converted to a tuple of keys) will be deprecated, use a list instead.\n",
      "  data_for_lack=graph_data.groupby(['gender','ancestry', 'bmi'])['hypertention', 'diabetes'].apply(lambda x: (x==0).sum().apply(lambda x: ((x/97)*100)))\n",
      "<ipython-input-87-71f6057c3014>:26: FutureWarning: Indexing with multiple keys (implicitly converted to a tuple of keys) will be deprecated, use a list instead.\n",
      "  data_for_presence=graph_data.groupby(['gender','ancestry', 'bmi'])['hypertention', 'diabetes'].apply(lambda x: (x==0).sum().apply(lambda x: ((x/97)*100)))\n",
      "<ipython-input-87-71f6057c3014>:25: FutureWarning: Indexing with multiple keys (implicitly converted to a tuple of keys) will be deprecated, use a list instead.\n",
      "  data_for_lack=graph_data.groupby(['gender','ancestry', 'bmi'])['hypertention', 'diabetes'].apply(lambda x: (x==0).sum().apply(lambda x: ((x/97)*100)))\n",
      "<ipython-input-87-71f6057c3014>:26: FutureWarning: Indexing with multiple keys (implicitly converted to a tuple of keys) will be deprecated, use a list instead.\n",
      "  data_for_presence=graph_data.groupby(['gender','ancestry', 'bmi'])['hypertention', 'diabetes'].apply(lambda x: (x==0).sum().apply(lambda x: ((x/97)*100)))\n",
      "<ipython-input-87-71f6057c3014>:25: FutureWarning: Indexing with multiple keys (implicitly converted to a tuple of keys) will be deprecated, use a list instead.\n",
      "  data_for_lack=graph_data.groupby(['gender','ancestry', 'bmi'])['hypertention', 'diabetes'].apply(lambda x: (x==0).sum().apply(lambda x: ((x/97)*100)))\n",
      "<ipython-input-87-71f6057c3014>:26: FutureWarning: Indexing with multiple keys (implicitly converted to a tuple of keys) will be deprecated, use a list instead.\n",
      "  data_for_presence=graph_data.groupby(['gender','ancestry', 'bmi'])['hypertention', 'diabetes'].apply(lambda x: (x==0).sum().apply(lambda x: ((x/97)*100)))\n",
      "<ipython-input-87-71f6057c3014>:25: FutureWarning: Indexing with multiple keys (implicitly converted to a tuple of keys) will be deprecated, use a list instead.\n",
      "  data_for_lack=graph_data.groupby(['gender','ancestry', 'bmi'])['hypertention', 'diabetes'].apply(lambda x: (x==0).sum().apply(lambda x: ((x/97)*100)))\n",
      "<ipython-input-87-71f6057c3014>:26: FutureWarning: Indexing with multiple keys (implicitly converted to a tuple of keys) will be deprecated, use a list instead.\n",
      "  data_for_presence=graph_data.groupby(['gender','ancestry', 'bmi'])['hypertention', 'diabetes'].apply(lambda x: (x==0).sum().apply(lambda x: ((x/97)*100)))\n",
      "<ipython-input-87-71f6057c3014>:25: FutureWarning: Indexing with multiple keys (implicitly converted to a tuple of keys) will be deprecated, use a list instead.\n",
      "  data_for_lack=graph_data.groupby(['gender','ancestry', 'bmi'])['hypertention', 'diabetes'].apply(lambda x: (x==0).sum().apply(lambda x: ((x/97)*100)))\n",
      "<ipython-input-87-71f6057c3014>:26: FutureWarning: Indexing with multiple keys (implicitly converted to a tuple of keys) will be deprecated, use a list instead.\n",
      "  data_for_presence=graph_data.groupby(['gender','ancestry', 'bmi'])['hypertention', 'diabetes'].apply(lambda x: (x==0).sum().apply(lambda x: ((x/97)*100)))\n",
      "<ipython-input-87-71f6057c3014>:25: FutureWarning: Indexing with multiple keys (implicitly converted to a tuple of keys) will be deprecated, use a list instead.\n",
      "  data_for_lack=graph_data.groupby(['gender','ancestry', 'bmi'])['hypertention', 'diabetes'].apply(lambda x: (x==0).sum().apply(lambda x: ((x/97)*100)))\n",
      "<ipython-input-87-71f6057c3014>:26: FutureWarning: Indexing with multiple keys (implicitly converted to a tuple of keys) will be deprecated, use a list instead.\n",
      "  data_for_presence=graph_data.groupby(['gender','ancestry', 'bmi'])['hypertention', 'diabetes'].apply(lambda x: (x==0).sum().apply(lambda x: ((x/97)*100)))\n",
      "<ipython-input-87-71f6057c3014>:25: FutureWarning: Indexing with multiple keys (implicitly converted to a tuple of keys) will be deprecated, use a list instead.\n",
      "  data_for_lack=graph_data.groupby(['gender','ancestry', 'bmi'])['hypertention', 'diabetes'].apply(lambda x: (x==0).sum().apply(lambda x: ((x/97)*100)))\n",
      "<ipython-input-87-71f6057c3014>:26: FutureWarning: Indexing with multiple keys (implicitly converted to a tuple of keys) will be deprecated, use a list instead.\n",
      "  data_for_presence=graph_data.groupby(['gender','ancestry', 'bmi'])['hypertention', 'diabetes'].apply(lambda x: (x==0).sum().apply(lambda x: ((x/97)*100)))\n",
      "<ipython-input-87-71f6057c3014>:25: FutureWarning: Indexing with multiple keys (implicitly converted to a tuple of keys) will be deprecated, use a list instead.\n",
      "  data_for_lack=graph_data.groupby(['gender','ancestry', 'bmi'])['hypertention', 'diabetes'].apply(lambda x: (x==0).sum().apply(lambda x: ((x/97)*100)))\n",
      "<ipython-input-87-71f6057c3014>:26: FutureWarning: Indexing with multiple keys (implicitly converted to a tuple of keys) will be deprecated, use a list instead.\n",
      "  data_for_presence=graph_data.groupby(['gender','ancestry', 'bmi'])['hypertention', 'diabetes'].apply(lambda x: (x==0).sum().apply(lambda x: ((x/97)*100)))\n",
      "C:\\Users\\mahdi.saeedi\\Anaconda3\\lib\\site-packages\\pandas\\plotting\\_matplotlib\\core.py:337: RuntimeWarning: More than 20 figures have been opened. Figures created through the pyplot interface (`matplotlib.pyplot.figure`) are retained until explicitly closed and may consume too much memory. (To control this warning, see the rcParam `figure.max_open_warning`).\n",
      "  fig = self.plt.figure(figsize=self.figsize)\n",
      "<ipython-input-87-71f6057c3014>:25: FutureWarning: Indexing with multiple keys (implicitly converted to a tuple of keys) will be deprecated, use a list instead.\n",
      "  data_for_lack=graph_data.groupby(['gender','ancestry', 'bmi'])['hypertention', 'diabetes'].apply(lambda x: (x==0).sum().apply(lambda x: ((x/97)*100)))\n",
      "<ipython-input-87-71f6057c3014>:26: FutureWarning: Indexing with multiple keys (implicitly converted to a tuple of keys) will be deprecated, use a list instead.\n",
      "  data_for_presence=graph_data.groupby(['gender','ancestry', 'bmi'])['hypertention', 'diabetes'].apply(lambda x: (x==0).sum().apply(lambda x: ((x/97)*100)))\n",
      "<ipython-input-87-71f6057c3014>:25: FutureWarning: Indexing with multiple keys (implicitly converted to a tuple of keys) will be deprecated, use a list instead.\n",
      "  data_for_lack=graph_data.groupby(['gender','ancestry', 'bmi'])['hypertention', 'diabetes'].apply(lambda x: (x==0).sum().apply(lambda x: ((x/97)*100)))\n",
      "<ipython-input-87-71f6057c3014>:26: FutureWarning: Indexing with multiple keys (implicitly converted to a tuple of keys) will be deprecated, use a list instead.\n",
      "  data_for_presence=graph_data.groupby(['gender','ancestry', 'bmi'])['hypertention', 'diabetes'].apply(lambda x: (x==0).sum().apply(lambda x: ((x/97)*100)))\n"
     ]
    },
    {
     "name": "stderr",
     "output_type": "stream",
     "text": [
      "<ipython-input-87-71f6057c3014>:25: FutureWarning: Indexing with multiple keys (implicitly converted to a tuple of keys) will be deprecated, use a list instead.\n",
      "  data_for_lack=graph_data.groupby(['gender','ancestry', 'bmi'])['hypertention', 'diabetes'].apply(lambda x: (x==0).sum().apply(lambda x: ((x/97)*100)))\n",
      "<ipython-input-87-71f6057c3014>:26: FutureWarning: Indexing with multiple keys (implicitly converted to a tuple of keys) will be deprecated, use a list instead.\n",
      "  data_for_presence=graph_data.groupby(['gender','ancestry', 'bmi'])['hypertention', 'diabetes'].apply(lambda x: (x==0).sum().apply(lambda x: ((x/97)*100)))\n",
      "<ipython-input-87-71f6057c3014>:25: FutureWarning: Indexing with multiple keys (implicitly converted to a tuple of keys) will be deprecated, use a list instead.\n",
      "  data_for_lack=graph_data.groupby(['gender','ancestry', 'bmi'])['hypertention', 'diabetes'].apply(lambda x: (x==0).sum().apply(lambda x: ((x/97)*100)))\n",
      "<ipython-input-87-71f6057c3014>:26: FutureWarning: Indexing with multiple keys (implicitly converted to a tuple of keys) will be deprecated, use a list instead.\n",
      "  data_for_presence=graph_data.groupby(['gender','ancestry', 'bmi'])['hypertention', 'diabetes'].apply(lambda x: (x==0).sum().apply(lambda x: ((x/97)*100)))\n",
      "<ipython-input-87-71f6057c3014>:25: FutureWarning: Indexing with multiple keys (implicitly converted to a tuple of keys) will be deprecated, use a list instead.\n",
      "  data_for_lack=graph_data.groupby(['gender','ancestry', 'bmi'])['hypertention', 'diabetes'].apply(lambda x: (x==0).sum().apply(lambda x: ((x/97)*100)))\n",
      "<ipython-input-87-71f6057c3014>:26: FutureWarning: Indexing with multiple keys (implicitly converted to a tuple of keys) will be deprecated, use a list instead.\n",
      "  data_for_presence=graph_data.groupby(['gender','ancestry', 'bmi'])['hypertention', 'diabetes'].apply(lambda x: (x==0).sum().apply(lambda x: ((x/97)*100)))\n",
      "<ipython-input-87-71f6057c3014>:25: FutureWarning: Indexing with multiple keys (implicitly converted to a tuple of keys) will be deprecated, use a list instead.\n",
      "  data_for_lack=graph_data.groupby(['gender','ancestry', 'bmi'])['hypertention', 'diabetes'].apply(lambda x: (x==0).sum().apply(lambda x: ((x/97)*100)))\n",
      "<ipython-input-87-71f6057c3014>:26: FutureWarning: Indexing with multiple keys (implicitly converted to a tuple of keys) will be deprecated, use a list instead.\n",
      "  data_for_presence=graph_data.groupby(['gender','ancestry', 'bmi'])['hypertention', 'diabetes'].apply(lambda x: (x==0).sum().apply(lambda x: ((x/97)*100)))\n",
      "<ipython-input-87-71f6057c3014>:25: FutureWarning: Indexing with multiple keys (implicitly converted to a tuple of keys) will be deprecated, use a list instead.\n",
      "  data_for_lack=graph_data.groupby(['gender','ancestry', 'bmi'])['hypertention', 'diabetes'].apply(lambda x: (x==0).sum().apply(lambda x: ((x/97)*100)))\n",
      "<ipython-input-87-71f6057c3014>:26: FutureWarning: Indexing with multiple keys (implicitly converted to a tuple of keys) will be deprecated, use a list instead.\n",
      "  data_for_presence=graph_data.groupby(['gender','ancestry', 'bmi'])['hypertention', 'diabetes'].apply(lambda x: (x==0).sum().apply(lambda x: ((x/97)*100)))\n",
      "<ipython-input-87-71f6057c3014>:25: FutureWarning: Indexing with multiple keys (implicitly converted to a tuple of keys) will be deprecated, use a list instead.\n",
      "  data_for_lack=graph_data.groupby(['gender','ancestry', 'bmi'])['hypertention', 'diabetes'].apply(lambda x: (x==0).sum().apply(lambda x: ((x/97)*100)))\n",
      "<ipython-input-87-71f6057c3014>:26: FutureWarning: Indexing with multiple keys (implicitly converted to a tuple of keys) will be deprecated, use a list instead.\n",
      "  data_for_presence=graph_data.groupby(['gender','ancestry', 'bmi'])['hypertention', 'diabetes'].apply(lambda x: (x==0).sum().apply(lambda x: ((x/97)*100)))\n",
      "<ipython-input-87-71f6057c3014>:25: FutureWarning: Indexing with multiple keys (implicitly converted to a tuple of keys) will be deprecated, use a list instead.\n",
      "  data_for_lack=graph_data.groupby(['gender','ancestry', 'bmi'])['hypertention', 'diabetes'].apply(lambda x: (x==0).sum().apply(lambda x: ((x/97)*100)))\n",
      "<ipython-input-87-71f6057c3014>:26: FutureWarning: Indexing with multiple keys (implicitly converted to a tuple of keys) will be deprecated, use a list instead.\n",
      "  data_for_presence=graph_data.groupby(['gender','ancestry', 'bmi'])['hypertention', 'diabetes'].apply(lambda x: (x==0).sum().apply(lambda x: ((x/97)*100)))\n",
      "<ipython-input-87-71f6057c3014>:25: FutureWarning: Indexing with multiple keys (implicitly converted to a tuple of keys) will be deprecated, use a list instead.\n",
      "  data_for_lack=graph_data.groupby(['gender','ancestry', 'bmi'])['hypertention', 'diabetes'].apply(lambda x: (x==0).sum().apply(lambda x: ((x/97)*100)))\n",
      "<ipython-input-87-71f6057c3014>:26: FutureWarning: Indexing with multiple keys (implicitly converted to a tuple of keys) will be deprecated, use a list instead.\n",
      "  data_for_presence=graph_data.groupby(['gender','ancestry', 'bmi'])['hypertention', 'diabetes'].apply(lambda x: (x==0).sum().apply(lambda x: ((x/97)*100)))\n",
      "<ipython-input-87-71f6057c3014>:25: FutureWarning: Indexing with multiple keys (implicitly converted to a tuple of keys) will be deprecated, use a list instead.\n",
      "  data_for_lack=graph_data.groupby(['gender','ancestry', 'bmi'])['hypertention', 'diabetes'].apply(lambda x: (x==0).sum().apply(lambda x: ((x/97)*100)))\n",
      "<ipython-input-87-71f6057c3014>:26: FutureWarning: Indexing with multiple keys (implicitly converted to a tuple of keys) will be deprecated, use a list instead.\n",
      "  data_for_presence=graph_data.groupby(['gender','ancestry', 'bmi'])['hypertention', 'diabetes'].apply(lambda x: (x==0).sum().apply(lambda x: ((x/97)*100)))\n",
      "<ipython-input-87-71f6057c3014>:25: FutureWarning: Indexing with multiple keys (implicitly converted to a tuple of keys) will be deprecated, use a list instead.\n",
      "  data_for_lack=graph_data.groupby(['gender','ancestry', 'bmi'])['hypertention', 'diabetes'].apply(lambda x: (x==0).sum().apply(lambda x: ((x/97)*100)))\n",
      "<ipython-input-87-71f6057c3014>:26: FutureWarning: Indexing with multiple keys (implicitly converted to a tuple of keys) will be deprecated, use a list instead.\n",
      "  data_for_presence=graph_data.groupby(['gender','ancestry', 'bmi'])['hypertention', 'diabetes'].apply(lambda x: (x==0).sum().apply(lambda x: ((x/97)*100)))\n",
      "<ipython-input-87-71f6057c3014>:25: FutureWarning: Indexing with multiple keys (implicitly converted to a tuple of keys) will be deprecated, use a list instead.\n",
      "  data_for_lack=graph_data.groupby(['gender','ancestry', 'bmi'])['hypertention', 'diabetes'].apply(lambda x: (x==0).sum().apply(lambda x: ((x/97)*100)))\n",
      "<ipython-input-87-71f6057c3014>:26: FutureWarning: Indexing with multiple keys (implicitly converted to a tuple of keys) will be deprecated, use a list instead.\n",
      "  data_for_presence=graph_data.groupby(['gender','ancestry', 'bmi'])['hypertention', 'diabetes'].apply(lambda x: (x==0).sum().apply(lambda x: ((x/97)*100)))\n",
      "<ipython-input-87-71f6057c3014>:25: FutureWarning: Indexing with multiple keys (implicitly converted to a tuple of keys) will be deprecated, use a list instead.\n",
      "  data_for_lack=graph_data.groupby(['gender','ancestry', 'bmi'])['hypertention', 'diabetes'].apply(lambda x: (x==0).sum().apply(lambda x: ((x/97)*100)))\n",
      "<ipython-input-87-71f6057c3014>:26: FutureWarning: Indexing with multiple keys (implicitly converted to a tuple of keys) will be deprecated, use a list instead.\n",
      "  data_for_presence=graph_data.groupby(['gender','ancestry', 'bmi'])['hypertention', 'diabetes'].apply(lambda x: (x==0).sum().apply(lambda x: ((x/97)*100)))\n",
      "<ipython-input-87-71f6057c3014>:25: FutureWarning: Indexing with multiple keys (implicitly converted to a tuple of keys) will be deprecated, use a list instead.\n",
      "  data_for_lack=graph_data.groupby(['gender','ancestry', 'bmi'])['hypertention', 'diabetes'].apply(lambda x: (x==0).sum().apply(lambda x: ((x/97)*100)))\n",
      "<ipython-input-87-71f6057c3014>:26: FutureWarning: Indexing with multiple keys (implicitly converted to a tuple of keys) will be deprecated, use a list instead.\n",
      "  data_for_presence=graph_data.groupby(['gender','ancestry', 'bmi'])['hypertention', 'diabetes'].apply(lambda x: (x==0).sum().apply(lambda x: ((x/97)*100)))\n"
     ]
    },
    {
     "name": "stderr",
     "output_type": "stream",
     "text": [
      "<ipython-input-87-71f6057c3014>:25: FutureWarning: Indexing with multiple keys (implicitly converted to a tuple of keys) will be deprecated, use a list instead.\n",
      "  data_for_lack=graph_data.groupby(['gender','ancestry', 'bmi'])['hypertention', 'diabetes'].apply(lambda x: (x==0).sum().apply(lambda x: ((x/97)*100)))\n",
      "<ipython-input-87-71f6057c3014>:26: FutureWarning: Indexing with multiple keys (implicitly converted to a tuple of keys) will be deprecated, use a list instead.\n",
      "  data_for_presence=graph_data.groupby(['gender','ancestry', 'bmi'])['hypertention', 'diabetes'].apply(lambda x: (x==0).sum().apply(lambda x: ((x/97)*100)))\n",
      "<ipython-input-87-71f6057c3014>:25: FutureWarning: Indexing with multiple keys (implicitly converted to a tuple of keys) will be deprecated, use a list instead.\n",
      "  data_for_lack=graph_data.groupby(['gender','ancestry', 'bmi'])['hypertention', 'diabetes'].apply(lambda x: (x==0).sum().apply(lambda x: ((x/97)*100)))\n",
      "<ipython-input-87-71f6057c3014>:26: FutureWarning: Indexing with multiple keys (implicitly converted to a tuple of keys) will be deprecated, use a list instead.\n",
      "  data_for_presence=graph_data.groupby(['gender','ancestry', 'bmi'])['hypertention', 'diabetes'].apply(lambda x: (x==0).sum().apply(lambda x: ((x/97)*100)))\n",
      "<ipython-input-87-71f6057c3014>:25: FutureWarning: Indexing with multiple keys (implicitly converted to a tuple of keys) will be deprecated, use a list instead.\n",
      "  data_for_lack=graph_data.groupby(['gender','ancestry', 'bmi'])['hypertention', 'diabetes'].apply(lambda x: (x==0).sum().apply(lambda x: ((x/97)*100)))\n",
      "<ipython-input-87-71f6057c3014>:26: FutureWarning: Indexing with multiple keys (implicitly converted to a tuple of keys) will be deprecated, use a list instead.\n",
      "  data_for_presence=graph_data.groupby(['gender','ancestry', 'bmi'])['hypertention', 'diabetes'].apply(lambda x: (x==0).sum().apply(lambda x: ((x/97)*100)))\n",
      "<ipython-input-87-71f6057c3014>:25: FutureWarning: Indexing with multiple keys (implicitly converted to a tuple of keys) will be deprecated, use a list instead.\n",
      "  data_for_lack=graph_data.groupby(['gender','ancestry', 'bmi'])['hypertention', 'diabetes'].apply(lambda x: (x==0).sum().apply(lambda x: ((x/97)*100)))\n",
      "<ipython-input-87-71f6057c3014>:26: FutureWarning: Indexing with multiple keys (implicitly converted to a tuple of keys) will be deprecated, use a list instead.\n",
      "  data_for_presence=graph_data.groupby(['gender','ancestry', 'bmi'])['hypertention', 'diabetes'].apply(lambda x: (x==0).sum().apply(lambda x: ((x/97)*100)))\n",
      "<ipython-input-87-71f6057c3014>:25: FutureWarning: Indexing with multiple keys (implicitly converted to a tuple of keys) will be deprecated, use a list instead.\n",
      "  data_for_lack=graph_data.groupby(['gender','ancestry', 'bmi'])['hypertention', 'diabetes'].apply(lambda x: (x==0).sum().apply(lambda x: ((x/97)*100)))\n",
      "<ipython-input-87-71f6057c3014>:26: FutureWarning: Indexing with multiple keys (implicitly converted to a tuple of keys) will be deprecated, use a list instead.\n",
      "  data_for_presence=graph_data.groupby(['gender','ancestry', 'bmi'])['hypertention', 'diabetes'].apply(lambda x: (x==0).sum().apply(lambda x: ((x/97)*100)))\n",
      "<ipython-input-87-71f6057c3014>:25: FutureWarning: Indexing with multiple keys (implicitly converted to a tuple of keys) will be deprecated, use a list instead.\n",
      "  data_for_lack=graph_data.groupby(['gender','ancestry', 'bmi'])['hypertention', 'diabetes'].apply(lambda x: (x==0).sum().apply(lambda x: ((x/97)*100)))\n",
      "<ipython-input-87-71f6057c3014>:26: FutureWarning: Indexing with multiple keys (implicitly converted to a tuple of keys) will be deprecated, use a list instead.\n",
      "  data_for_presence=graph_data.groupby(['gender','ancestry', 'bmi'])['hypertention', 'diabetes'].apply(lambda x: (x==0).sum().apply(lambda x: ((x/97)*100)))\n",
      "<ipython-input-87-71f6057c3014>:25: FutureWarning: Indexing with multiple keys (implicitly converted to a tuple of keys) will be deprecated, use a list instead.\n",
      "  data_for_lack=graph_data.groupby(['gender','ancestry', 'bmi'])['hypertention', 'diabetes'].apply(lambda x: (x==0).sum().apply(lambda x: ((x/97)*100)))\n",
      "<ipython-input-87-71f6057c3014>:26: FutureWarning: Indexing with multiple keys (implicitly converted to a tuple of keys) will be deprecated, use a list instead.\n",
      "  data_for_presence=graph_data.groupby(['gender','ancestry', 'bmi'])['hypertention', 'diabetes'].apply(lambda x: (x==0).sum().apply(lambda x: ((x/97)*100)))\n",
      "<ipython-input-87-71f6057c3014>:25: FutureWarning: Indexing with multiple keys (implicitly converted to a tuple of keys) will be deprecated, use a list instead.\n",
      "  data_for_lack=graph_data.groupby(['gender','ancestry', 'bmi'])['hypertention', 'diabetes'].apply(lambda x: (x==0).sum().apply(lambda x: ((x/97)*100)))\n",
      "<ipython-input-87-71f6057c3014>:26: FutureWarning: Indexing with multiple keys (implicitly converted to a tuple of keys) will be deprecated, use a list instead.\n",
      "  data_for_presence=graph_data.groupby(['gender','ancestry', 'bmi'])['hypertention', 'diabetes'].apply(lambda x: (x==0).sum().apply(lambda x: ((x/97)*100)))\n",
      "<ipython-input-87-71f6057c3014>:25: FutureWarning: Indexing with multiple keys (implicitly converted to a tuple of keys) will be deprecated, use a list instead.\n",
      "  data_for_lack=graph_data.groupby(['gender','ancestry', 'bmi'])['hypertention', 'diabetes'].apply(lambda x: (x==0).sum().apply(lambda x: ((x/97)*100)))\n",
      "<ipython-input-87-71f6057c3014>:26: FutureWarning: Indexing with multiple keys (implicitly converted to a tuple of keys) will be deprecated, use a list instead.\n",
      "  data_for_presence=graph_data.groupby(['gender','ancestry', 'bmi'])['hypertention', 'diabetes'].apply(lambda x: (x==0).sum().apply(lambda x: ((x/97)*100)))\n",
      "<ipython-input-87-71f6057c3014>:25: FutureWarning: Indexing with multiple keys (implicitly converted to a tuple of keys) will be deprecated, use a list instead.\n",
      "  data_for_lack=graph_data.groupby(['gender','ancestry', 'bmi'])['hypertention', 'diabetes'].apply(lambda x: (x==0).sum().apply(lambda x: ((x/97)*100)))\n",
      "<ipython-input-87-71f6057c3014>:26: FutureWarning: Indexing with multiple keys (implicitly converted to a tuple of keys) will be deprecated, use a list instead.\n",
      "  data_for_presence=graph_data.groupby(['gender','ancestry', 'bmi'])['hypertention', 'diabetes'].apply(lambda x: (x==0).sum().apply(lambda x: ((x/97)*100)))\n",
      "<ipython-input-87-71f6057c3014>:25: FutureWarning: Indexing with multiple keys (implicitly converted to a tuple of keys) will be deprecated, use a list instead.\n",
      "  data_for_lack=graph_data.groupby(['gender','ancestry', 'bmi'])['hypertention', 'diabetes'].apply(lambda x: (x==0).sum().apply(lambda x: ((x/97)*100)))\n",
      "<ipython-input-87-71f6057c3014>:26: FutureWarning: Indexing with multiple keys (implicitly converted to a tuple of keys) will be deprecated, use a list instead.\n",
      "  data_for_presence=graph_data.groupby(['gender','ancestry', 'bmi'])['hypertention', 'diabetes'].apply(lambda x: (x==0).sum().apply(lambda x: ((x/97)*100)))\n",
      "<ipython-input-87-71f6057c3014>:25: FutureWarning: Indexing with multiple keys (implicitly converted to a tuple of keys) will be deprecated, use a list instead.\n",
      "  data_for_lack=graph_data.groupby(['gender','ancestry', 'bmi'])['hypertention', 'diabetes'].apply(lambda x: (x==0).sum().apply(lambda x: ((x/97)*100)))\n",
      "<ipython-input-87-71f6057c3014>:26: FutureWarning: Indexing with multiple keys (implicitly converted to a tuple of keys) will be deprecated, use a list instead.\n",
      "  data_for_presence=graph_data.groupby(['gender','ancestry', 'bmi'])['hypertention', 'diabetes'].apply(lambda x: (x==0).sum().apply(lambda x: ((x/97)*100)))\n",
      "<ipython-input-87-71f6057c3014>:25: FutureWarning: Indexing with multiple keys (implicitly converted to a tuple of keys) will be deprecated, use a list instead.\n",
      "  data_for_lack=graph_data.groupby(['gender','ancestry', 'bmi'])['hypertention', 'diabetes'].apply(lambda x: (x==0).sum().apply(lambda x: ((x/97)*100)))\n",
      "<ipython-input-87-71f6057c3014>:26: FutureWarning: Indexing with multiple keys (implicitly converted to a tuple of keys) will be deprecated, use a list instead.\n",
      "  data_for_presence=graph_data.groupby(['gender','ancestry', 'bmi'])['hypertention', 'diabetes'].apply(lambda x: (x==0).sum().apply(lambda x: ((x/97)*100)))\n"
     ]
    },
    {
     "name": "stderr",
     "output_type": "stream",
     "text": [
      "<ipython-input-87-71f6057c3014>:25: FutureWarning: Indexing with multiple keys (implicitly converted to a tuple of keys) will be deprecated, use a list instead.\n",
      "  data_for_lack=graph_data.groupby(['gender','ancestry', 'bmi'])['hypertention', 'diabetes'].apply(lambda x: (x==0).sum().apply(lambda x: ((x/97)*100)))\n",
      "<ipython-input-87-71f6057c3014>:26: FutureWarning: Indexing with multiple keys (implicitly converted to a tuple of keys) will be deprecated, use a list instead.\n",
      "  data_for_presence=graph_data.groupby(['gender','ancestry', 'bmi'])['hypertention', 'diabetes'].apply(lambda x: (x==0).sum().apply(lambda x: ((x/97)*100)))\n",
      "<ipython-input-87-71f6057c3014>:25: FutureWarning: Indexing with multiple keys (implicitly converted to a tuple of keys) will be deprecated, use a list instead.\n",
      "  data_for_lack=graph_data.groupby(['gender','ancestry', 'bmi'])['hypertention', 'diabetes'].apply(lambda x: (x==0).sum().apply(lambda x: ((x/97)*100)))\n",
      "<ipython-input-87-71f6057c3014>:26: FutureWarning: Indexing with multiple keys (implicitly converted to a tuple of keys) will be deprecated, use a list instead.\n",
      "  data_for_presence=graph_data.groupby(['gender','ancestry', 'bmi'])['hypertention', 'diabetes'].apply(lambda x: (x==0).sum().apply(lambda x: ((x/97)*100)))\n",
      "<ipython-input-87-71f6057c3014>:25: FutureWarning: Indexing with multiple keys (implicitly converted to a tuple of keys) will be deprecated, use a list instead.\n",
      "  data_for_lack=graph_data.groupby(['gender','ancestry', 'bmi'])['hypertention', 'diabetes'].apply(lambda x: (x==0).sum().apply(lambda x: ((x/97)*100)))\n",
      "<ipython-input-87-71f6057c3014>:26: FutureWarning: Indexing with multiple keys (implicitly converted to a tuple of keys) will be deprecated, use a list instead.\n",
      "  data_for_presence=graph_data.groupby(['gender','ancestry', 'bmi'])['hypertention', 'diabetes'].apply(lambda x: (x==0).sum().apply(lambda x: ((x/97)*100)))\n",
      "<ipython-input-87-71f6057c3014>:25: FutureWarning: Indexing with multiple keys (implicitly converted to a tuple of keys) will be deprecated, use a list instead.\n",
      "  data_for_lack=graph_data.groupby(['gender','ancestry', 'bmi'])['hypertention', 'diabetes'].apply(lambda x: (x==0).sum().apply(lambda x: ((x/97)*100)))\n",
      "<ipython-input-87-71f6057c3014>:26: FutureWarning: Indexing with multiple keys (implicitly converted to a tuple of keys) will be deprecated, use a list instead.\n",
      "  data_for_presence=graph_data.groupby(['gender','ancestry', 'bmi'])['hypertention', 'diabetes'].apply(lambda x: (x==0).sum().apply(lambda x: ((x/97)*100)))\n",
      "<ipython-input-87-71f6057c3014>:25: FutureWarning: Indexing with multiple keys (implicitly converted to a tuple of keys) will be deprecated, use a list instead.\n",
      "  data_for_lack=graph_data.groupby(['gender','ancestry', 'bmi'])['hypertention', 'diabetes'].apply(lambda x: (x==0).sum().apply(lambda x: ((x/97)*100)))\n",
      "<ipython-input-87-71f6057c3014>:26: FutureWarning: Indexing with multiple keys (implicitly converted to a tuple of keys) will be deprecated, use a list instead.\n",
      "  data_for_presence=graph_data.groupby(['gender','ancestry', 'bmi'])['hypertention', 'diabetes'].apply(lambda x: (x==0).sum().apply(lambda x: ((x/97)*100)))\n",
      "<ipython-input-87-71f6057c3014>:25: FutureWarning: Indexing with multiple keys (implicitly converted to a tuple of keys) will be deprecated, use a list instead.\n",
      "  data_for_lack=graph_data.groupby(['gender','ancestry', 'bmi'])['hypertention', 'diabetes'].apply(lambda x: (x==0).sum().apply(lambda x: ((x/97)*100)))\n",
      "<ipython-input-87-71f6057c3014>:26: FutureWarning: Indexing with multiple keys (implicitly converted to a tuple of keys) will be deprecated, use a list instead.\n",
      "  data_for_presence=graph_data.groupby(['gender','ancestry', 'bmi'])['hypertention', 'diabetes'].apply(lambda x: (x==0).sum().apply(lambda x: ((x/97)*100)))\n",
      "<ipython-input-87-71f6057c3014>:25: FutureWarning: Indexing with multiple keys (implicitly converted to a tuple of keys) will be deprecated, use a list instead.\n",
      "  data_for_lack=graph_data.groupby(['gender','ancestry', 'bmi'])['hypertention', 'diabetes'].apply(lambda x: (x==0).sum().apply(lambda x: ((x/97)*100)))\n",
      "<ipython-input-87-71f6057c3014>:26: FutureWarning: Indexing with multiple keys (implicitly converted to a tuple of keys) will be deprecated, use a list instead.\n",
      "  data_for_presence=graph_data.groupby(['gender','ancestry', 'bmi'])['hypertention', 'diabetes'].apply(lambda x: (x==0).sum().apply(lambda x: ((x/97)*100)))\n",
      "<ipython-input-87-71f6057c3014>:25: FutureWarning: Indexing with multiple keys (implicitly converted to a tuple of keys) will be deprecated, use a list instead.\n",
      "  data_for_lack=graph_data.groupby(['gender','ancestry', 'bmi'])['hypertention', 'diabetes'].apply(lambda x: (x==0).sum().apply(lambda x: ((x/97)*100)))\n",
      "<ipython-input-87-71f6057c3014>:26: FutureWarning: Indexing with multiple keys (implicitly converted to a tuple of keys) will be deprecated, use a list instead.\n",
      "  data_for_presence=graph_data.groupby(['gender','ancestry', 'bmi'])['hypertention', 'diabetes'].apply(lambda x: (x==0).sum().apply(lambda x: ((x/97)*100)))\n",
      "<ipython-input-87-71f6057c3014>:25: FutureWarning: Indexing with multiple keys (implicitly converted to a tuple of keys) will be deprecated, use a list instead.\n",
      "  data_for_lack=graph_data.groupby(['gender','ancestry', 'bmi'])['hypertention', 'diabetes'].apply(lambda x: (x==0).sum().apply(lambda x: ((x/97)*100)))\n",
      "<ipython-input-87-71f6057c3014>:26: FutureWarning: Indexing with multiple keys (implicitly converted to a tuple of keys) will be deprecated, use a list instead.\n",
      "  data_for_presence=graph_data.groupby(['gender','ancestry', 'bmi'])['hypertention', 'diabetes'].apply(lambda x: (x==0).sum().apply(lambda x: ((x/97)*100)))\n",
      "<ipython-input-87-71f6057c3014>:25: FutureWarning: Indexing with multiple keys (implicitly converted to a tuple of keys) will be deprecated, use a list instead.\n",
      "  data_for_lack=graph_data.groupby(['gender','ancestry', 'bmi'])['hypertention', 'diabetes'].apply(lambda x: (x==0).sum().apply(lambda x: ((x/97)*100)))\n",
      "<ipython-input-87-71f6057c3014>:26: FutureWarning: Indexing with multiple keys (implicitly converted to a tuple of keys) will be deprecated, use a list instead.\n",
      "  data_for_presence=graph_data.groupby(['gender','ancestry', 'bmi'])['hypertention', 'diabetes'].apply(lambda x: (x==0).sum().apply(lambda x: ((x/97)*100)))\n",
      "<ipython-input-87-71f6057c3014>:25: FutureWarning: Indexing with multiple keys (implicitly converted to a tuple of keys) will be deprecated, use a list instead.\n",
      "  data_for_lack=graph_data.groupby(['gender','ancestry', 'bmi'])['hypertention', 'diabetes'].apply(lambda x: (x==0).sum().apply(lambda x: ((x/97)*100)))\n",
      "<ipython-input-87-71f6057c3014>:26: FutureWarning: Indexing with multiple keys (implicitly converted to a tuple of keys) will be deprecated, use a list instead.\n",
      "  data_for_presence=graph_data.groupby(['gender','ancestry', 'bmi'])['hypertention', 'diabetes'].apply(lambda x: (x==0).sum().apply(lambda x: ((x/97)*100)))\n",
      "<ipython-input-87-71f6057c3014>:25: FutureWarning: Indexing with multiple keys (implicitly converted to a tuple of keys) will be deprecated, use a list instead.\n",
      "  data_for_lack=graph_data.groupby(['gender','ancestry', 'bmi'])['hypertention', 'diabetes'].apply(lambda x: (x==0).sum().apply(lambda x: ((x/97)*100)))\n",
      "<ipython-input-87-71f6057c3014>:26: FutureWarning: Indexing with multiple keys (implicitly converted to a tuple of keys) will be deprecated, use a list instead.\n",
      "  data_for_presence=graph_data.groupby(['gender','ancestry', 'bmi'])['hypertention', 'diabetes'].apply(lambda x: (x==0).sum().apply(lambda x: ((x/97)*100)))\n",
      "<ipython-input-87-71f6057c3014>:25: FutureWarning: Indexing with multiple keys (implicitly converted to a tuple of keys) will be deprecated, use a list instead.\n",
      "  data_for_lack=graph_data.groupby(['gender','ancestry', 'bmi'])['hypertention', 'diabetes'].apply(lambda x: (x==0).sum().apply(lambda x: ((x/97)*100)))\n",
      "<ipython-input-87-71f6057c3014>:26: FutureWarning: Indexing with multiple keys (implicitly converted to a tuple of keys) will be deprecated, use a list instead.\n",
      "  data_for_presence=graph_data.groupby(['gender','ancestry', 'bmi'])['hypertention', 'diabetes'].apply(lambda x: (x==0).sum().apply(lambda x: ((x/97)*100)))\n"
     ]
    },
    {
     "name": "stderr",
     "output_type": "stream",
     "text": [
      "<ipython-input-87-71f6057c3014>:25: FutureWarning: Indexing with multiple keys (implicitly converted to a tuple of keys) will be deprecated, use a list instead.\n",
      "  data_for_lack=graph_data.groupby(['gender','ancestry', 'bmi'])['hypertention', 'diabetes'].apply(lambda x: (x==0).sum().apply(lambda x: ((x/97)*100)))\n",
      "<ipython-input-87-71f6057c3014>:26: FutureWarning: Indexing with multiple keys (implicitly converted to a tuple of keys) will be deprecated, use a list instead.\n",
      "  data_for_presence=graph_data.groupby(['gender','ancestry', 'bmi'])['hypertention', 'diabetes'].apply(lambda x: (x==0).sum().apply(lambda x: ((x/97)*100)))\n",
      "<ipython-input-87-71f6057c3014>:25: FutureWarning: Indexing with multiple keys (implicitly converted to a tuple of keys) will be deprecated, use a list instead.\n",
      "  data_for_lack=graph_data.groupby(['gender','ancestry', 'bmi'])['hypertention', 'diabetes'].apply(lambda x: (x==0).sum().apply(lambda x: ((x/97)*100)))\n",
      "<ipython-input-87-71f6057c3014>:26: FutureWarning: Indexing with multiple keys (implicitly converted to a tuple of keys) will be deprecated, use a list instead.\n",
      "  data_for_presence=graph_data.groupby(['gender','ancestry', 'bmi'])['hypertention', 'diabetes'].apply(lambda x: (x==0).sum().apply(lambda x: ((x/97)*100)))\n",
      "<ipython-input-87-71f6057c3014>:25: FutureWarning: Indexing with multiple keys (implicitly converted to a tuple of keys) will be deprecated, use a list instead.\n",
      "  data_for_lack=graph_data.groupby(['gender','ancestry', 'bmi'])['hypertention', 'diabetes'].apply(lambda x: (x==0).sum().apply(lambda x: ((x/97)*100)))\n",
      "<ipython-input-87-71f6057c3014>:26: FutureWarning: Indexing with multiple keys (implicitly converted to a tuple of keys) will be deprecated, use a list instead.\n",
      "  data_for_presence=graph_data.groupby(['gender','ancestry', 'bmi'])['hypertention', 'diabetes'].apply(lambda x: (x==0).sum().apply(lambda x: ((x/97)*100)))\n",
      "<ipython-input-87-71f6057c3014>:25: FutureWarning: Indexing with multiple keys (implicitly converted to a tuple of keys) will be deprecated, use a list instead.\n",
      "  data_for_lack=graph_data.groupby(['gender','ancestry', 'bmi'])['hypertention', 'diabetes'].apply(lambda x: (x==0).sum().apply(lambda x: ((x/97)*100)))\n",
      "<ipython-input-87-71f6057c3014>:26: FutureWarning: Indexing with multiple keys (implicitly converted to a tuple of keys) will be deprecated, use a list instead.\n",
      "  data_for_presence=graph_data.groupby(['gender','ancestry', 'bmi'])['hypertention', 'diabetes'].apply(lambda x: (x==0).sum().apply(lambda x: ((x/97)*100)))\n",
      "<ipython-input-87-71f6057c3014>:25: FutureWarning: Indexing with multiple keys (implicitly converted to a tuple of keys) will be deprecated, use a list instead.\n",
      "  data_for_lack=graph_data.groupby(['gender','ancestry', 'bmi'])['hypertention', 'diabetes'].apply(lambda x: (x==0).sum().apply(lambda x: ((x/97)*100)))\n",
      "<ipython-input-87-71f6057c3014>:26: FutureWarning: Indexing with multiple keys (implicitly converted to a tuple of keys) will be deprecated, use a list instead.\n",
      "  data_for_presence=graph_data.groupby(['gender','ancestry', 'bmi'])['hypertention', 'diabetes'].apply(lambda x: (x==0).sum().apply(lambda x: ((x/97)*100)))\n",
      "<ipython-input-87-71f6057c3014>:25: FutureWarning: Indexing with multiple keys (implicitly converted to a tuple of keys) will be deprecated, use a list instead.\n",
      "  data_for_lack=graph_data.groupby(['gender','ancestry', 'bmi'])['hypertention', 'diabetes'].apply(lambda x: (x==0).sum().apply(lambda x: ((x/97)*100)))\n",
      "<ipython-input-87-71f6057c3014>:26: FutureWarning: Indexing with multiple keys (implicitly converted to a tuple of keys) will be deprecated, use a list instead.\n",
      "  data_for_presence=graph_data.groupby(['gender','ancestry', 'bmi'])['hypertention', 'diabetes'].apply(lambda x: (x==0).sum().apply(lambda x: ((x/97)*100)))\n",
      "<ipython-input-87-71f6057c3014>:25: FutureWarning: Indexing with multiple keys (implicitly converted to a tuple of keys) will be deprecated, use a list instead.\n",
      "  data_for_lack=graph_data.groupby(['gender','ancestry', 'bmi'])['hypertention', 'diabetes'].apply(lambda x: (x==0).sum().apply(lambda x: ((x/97)*100)))\n",
      "<ipython-input-87-71f6057c3014>:26: FutureWarning: Indexing with multiple keys (implicitly converted to a tuple of keys) will be deprecated, use a list instead.\n",
      "  data_for_presence=graph_data.groupby(['gender','ancestry', 'bmi'])['hypertention', 'diabetes'].apply(lambda x: (x==0).sum().apply(lambda x: ((x/97)*100)))\n",
      "<ipython-input-87-71f6057c3014>:25: FutureWarning: Indexing with multiple keys (implicitly converted to a tuple of keys) will be deprecated, use a list instead.\n",
      "  data_for_lack=graph_data.groupby(['gender','ancestry', 'bmi'])['hypertention', 'diabetes'].apply(lambda x: (x==0).sum().apply(lambda x: ((x/97)*100)))\n",
      "<ipython-input-87-71f6057c3014>:26: FutureWarning: Indexing with multiple keys (implicitly converted to a tuple of keys) will be deprecated, use a list instead.\n",
      "  data_for_presence=graph_data.groupby(['gender','ancestry', 'bmi'])['hypertention', 'diabetes'].apply(lambda x: (x==0).sum().apply(lambda x: ((x/97)*100)))\n",
      "<ipython-input-87-71f6057c3014>:25: FutureWarning: Indexing with multiple keys (implicitly converted to a tuple of keys) will be deprecated, use a list instead.\n",
      "  data_for_lack=graph_data.groupby(['gender','ancestry', 'bmi'])['hypertention', 'diabetes'].apply(lambda x: (x==0).sum().apply(lambda x: ((x/97)*100)))\n",
      "<ipython-input-87-71f6057c3014>:26: FutureWarning: Indexing with multiple keys (implicitly converted to a tuple of keys) will be deprecated, use a list instead.\n",
      "  data_for_presence=graph_data.groupby(['gender','ancestry', 'bmi'])['hypertention', 'diabetes'].apply(lambda x: (x==0).sum().apply(lambda x: ((x/97)*100)))\n",
      "<ipython-input-87-71f6057c3014>:25: FutureWarning: Indexing with multiple keys (implicitly converted to a tuple of keys) will be deprecated, use a list instead.\n",
      "  data_for_lack=graph_data.groupby(['gender','ancestry', 'bmi'])['hypertention', 'diabetes'].apply(lambda x: (x==0).sum().apply(lambda x: ((x/97)*100)))\n",
      "<ipython-input-87-71f6057c3014>:26: FutureWarning: Indexing with multiple keys (implicitly converted to a tuple of keys) will be deprecated, use a list instead.\n",
      "  data_for_presence=graph_data.groupby(['gender','ancestry', 'bmi'])['hypertention', 'diabetes'].apply(lambda x: (x==0).sum().apply(lambda x: ((x/97)*100)))\n",
      "<ipython-input-87-71f6057c3014>:25: FutureWarning: Indexing with multiple keys (implicitly converted to a tuple of keys) will be deprecated, use a list instead.\n",
      "  data_for_lack=graph_data.groupby(['gender','ancestry', 'bmi'])['hypertention', 'diabetes'].apply(lambda x: (x==0).sum().apply(lambda x: ((x/97)*100)))\n",
      "<ipython-input-87-71f6057c3014>:26: FutureWarning: Indexing with multiple keys (implicitly converted to a tuple of keys) will be deprecated, use a list instead.\n",
      "  data_for_presence=graph_data.groupby(['gender','ancestry', 'bmi'])['hypertention', 'diabetes'].apply(lambda x: (x==0).sum().apply(lambda x: ((x/97)*100)))\n",
      "<ipython-input-87-71f6057c3014>:25: FutureWarning: Indexing with multiple keys (implicitly converted to a tuple of keys) will be deprecated, use a list instead.\n",
      "  data_for_lack=graph_data.groupby(['gender','ancestry', 'bmi'])['hypertention', 'diabetes'].apply(lambda x: (x==0).sum().apply(lambda x: ((x/97)*100)))\n",
      "<ipython-input-87-71f6057c3014>:26: FutureWarning: Indexing with multiple keys (implicitly converted to a tuple of keys) will be deprecated, use a list instead.\n",
      "  data_for_presence=graph_data.groupby(['gender','ancestry', 'bmi'])['hypertention', 'diabetes'].apply(lambda x: (x==0).sum().apply(lambda x: ((x/97)*100)))\n",
      "<ipython-input-87-71f6057c3014>:25: FutureWarning: Indexing with multiple keys (implicitly converted to a tuple of keys) will be deprecated, use a list instead.\n",
      "  data_for_lack=graph_data.groupby(['gender','ancestry', 'bmi'])['hypertention', 'diabetes'].apply(lambda x: (x==0).sum().apply(lambda x: ((x/97)*100)))\n",
      "<ipython-input-87-71f6057c3014>:26: FutureWarning: Indexing with multiple keys (implicitly converted to a tuple of keys) will be deprecated, use a list instead.\n",
      "  data_for_presence=graph_data.groupby(['gender','ancestry', 'bmi'])['hypertention', 'diabetes'].apply(lambda x: (x==0).sum().apply(lambda x: ((x/97)*100)))\n"
     ]
    },
    {
     "name": "stderr",
     "output_type": "stream",
     "text": [
      "<ipython-input-87-71f6057c3014>:25: FutureWarning: Indexing with multiple keys (implicitly converted to a tuple of keys) will be deprecated, use a list instead.\n",
      "  data_for_lack=graph_data.groupby(['gender','ancestry', 'bmi'])['hypertention', 'diabetes'].apply(lambda x: (x==0).sum().apply(lambda x: ((x/97)*100)))\n",
      "<ipython-input-87-71f6057c3014>:26: FutureWarning: Indexing with multiple keys (implicitly converted to a tuple of keys) will be deprecated, use a list instead.\n",
      "  data_for_presence=graph_data.groupby(['gender','ancestry', 'bmi'])['hypertention', 'diabetes'].apply(lambda x: (x==0).sum().apply(lambda x: ((x/97)*100)))\n",
      "<ipython-input-87-71f6057c3014>:25: FutureWarning: Indexing with multiple keys (implicitly converted to a tuple of keys) will be deprecated, use a list instead.\n",
      "  data_for_lack=graph_data.groupby(['gender','ancestry', 'bmi'])['hypertention', 'diabetes'].apply(lambda x: (x==0).sum().apply(lambda x: ((x/97)*100)))\n",
      "<ipython-input-87-71f6057c3014>:26: FutureWarning: Indexing with multiple keys (implicitly converted to a tuple of keys) will be deprecated, use a list instead.\n",
      "  data_for_presence=graph_data.groupby(['gender','ancestry', 'bmi'])['hypertention', 'diabetes'].apply(lambda x: (x==0).sum().apply(lambda x: ((x/97)*100)))\n",
      "<ipython-input-87-71f6057c3014>:25: FutureWarning: Indexing with multiple keys (implicitly converted to a tuple of keys) will be deprecated, use a list instead.\n",
      "  data_for_lack=graph_data.groupby(['gender','ancestry', 'bmi'])['hypertention', 'diabetes'].apply(lambda x: (x==0).sum().apply(lambda x: ((x/97)*100)))\n",
      "<ipython-input-87-71f6057c3014>:26: FutureWarning: Indexing with multiple keys (implicitly converted to a tuple of keys) will be deprecated, use a list instead.\n",
      "  data_for_presence=graph_data.groupby(['gender','ancestry', 'bmi'])['hypertention', 'diabetes'].apply(lambda x: (x==0).sum().apply(lambda x: ((x/97)*100)))\n",
      "<ipython-input-87-71f6057c3014>:25: FutureWarning: Indexing with multiple keys (implicitly converted to a tuple of keys) will be deprecated, use a list instead.\n",
      "  data_for_lack=graph_data.groupby(['gender','ancestry', 'bmi'])['hypertention', 'diabetes'].apply(lambda x: (x==0).sum().apply(lambda x: ((x/97)*100)))\n",
      "<ipython-input-87-71f6057c3014>:26: FutureWarning: Indexing with multiple keys (implicitly converted to a tuple of keys) will be deprecated, use a list instead.\n",
      "  data_for_presence=graph_data.groupby(['gender','ancestry', 'bmi'])['hypertention', 'diabetes'].apply(lambda x: (x==0).sum().apply(lambda x: ((x/97)*100)))\n",
      "<ipython-input-87-71f6057c3014>:25: FutureWarning: Indexing with multiple keys (implicitly converted to a tuple of keys) will be deprecated, use a list instead.\n",
      "  data_for_lack=graph_data.groupby(['gender','ancestry', 'bmi'])['hypertention', 'diabetes'].apply(lambda x: (x==0).sum().apply(lambda x: ((x/97)*100)))\n",
      "<ipython-input-87-71f6057c3014>:26: FutureWarning: Indexing with multiple keys (implicitly converted to a tuple of keys) will be deprecated, use a list instead.\n",
      "  data_for_presence=graph_data.groupby(['gender','ancestry', 'bmi'])['hypertention', 'diabetes'].apply(lambda x: (x==0).sum().apply(lambda x: ((x/97)*100)))\n",
      "<ipython-input-87-71f6057c3014>:25: FutureWarning: Indexing with multiple keys (implicitly converted to a tuple of keys) will be deprecated, use a list instead.\n",
      "  data_for_lack=graph_data.groupby(['gender','ancestry', 'bmi'])['hypertention', 'diabetes'].apply(lambda x: (x==0).sum().apply(lambda x: ((x/97)*100)))\n",
      "<ipython-input-87-71f6057c3014>:26: FutureWarning: Indexing with multiple keys (implicitly converted to a tuple of keys) will be deprecated, use a list instead.\n",
      "  data_for_presence=graph_data.groupby(['gender','ancestry', 'bmi'])['hypertention', 'diabetes'].apply(lambda x: (x==0).sum().apply(lambda x: ((x/97)*100)))\n",
      "<ipython-input-87-71f6057c3014>:25: FutureWarning: Indexing with multiple keys (implicitly converted to a tuple of keys) will be deprecated, use a list instead.\n",
      "  data_for_lack=graph_data.groupby(['gender','ancestry', 'bmi'])['hypertention', 'diabetes'].apply(lambda x: (x==0).sum().apply(lambda x: ((x/97)*100)))\n",
      "<ipython-input-87-71f6057c3014>:26: FutureWarning: Indexing with multiple keys (implicitly converted to a tuple of keys) will be deprecated, use a list instead.\n",
      "  data_for_presence=graph_data.groupby(['gender','ancestry', 'bmi'])['hypertention', 'diabetes'].apply(lambda x: (x==0).sum().apply(lambda x: ((x/97)*100)))\n",
      "<ipython-input-87-71f6057c3014>:25: FutureWarning: Indexing with multiple keys (implicitly converted to a tuple of keys) will be deprecated, use a list instead.\n",
      "  data_for_lack=graph_data.groupby(['gender','ancestry', 'bmi'])['hypertention', 'diabetes'].apply(lambda x: (x==0).sum().apply(lambda x: ((x/97)*100)))\n",
      "<ipython-input-87-71f6057c3014>:26: FutureWarning: Indexing with multiple keys (implicitly converted to a tuple of keys) will be deprecated, use a list instead.\n",
      "  data_for_presence=graph_data.groupby(['gender','ancestry', 'bmi'])['hypertention', 'diabetes'].apply(lambda x: (x==0).sum().apply(lambda x: ((x/97)*100)))\n",
      "<ipython-input-87-71f6057c3014>:25: FutureWarning: Indexing with multiple keys (implicitly converted to a tuple of keys) will be deprecated, use a list instead.\n",
      "  data_for_lack=graph_data.groupby(['gender','ancestry', 'bmi'])['hypertention', 'diabetes'].apply(lambda x: (x==0).sum().apply(lambda x: ((x/97)*100)))\n",
      "<ipython-input-87-71f6057c3014>:26: FutureWarning: Indexing with multiple keys (implicitly converted to a tuple of keys) will be deprecated, use a list instead.\n",
      "  data_for_presence=graph_data.groupby(['gender','ancestry', 'bmi'])['hypertention', 'diabetes'].apply(lambda x: (x==0).sum().apply(lambda x: ((x/97)*100)))\n",
      "<ipython-input-87-71f6057c3014>:25: FutureWarning: Indexing with multiple keys (implicitly converted to a tuple of keys) will be deprecated, use a list instead.\n",
      "  data_for_lack=graph_data.groupby(['gender','ancestry', 'bmi'])['hypertention', 'diabetes'].apply(lambda x: (x==0).sum().apply(lambda x: ((x/97)*100)))\n",
      "<ipython-input-87-71f6057c3014>:26: FutureWarning: Indexing with multiple keys (implicitly converted to a tuple of keys) will be deprecated, use a list instead.\n",
      "  data_for_presence=graph_data.groupby(['gender','ancestry', 'bmi'])['hypertention', 'diabetes'].apply(lambda x: (x==0).sum().apply(lambda x: ((x/97)*100)))\n",
      "<ipython-input-87-71f6057c3014>:25: FutureWarning: Indexing with multiple keys (implicitly converted to a tuple of keys) will be deprecated, use a list instead.\n",
      "  data_for_lack=graph_data.groupby(['gender','ancestry', 'bmi'])['hypertention', 'diabetes'].apply(lambda x: (x==0).sum().apply(lambda x: ((x/97)*100)))\n",
      "<ipython-input-87-71f6057c3014>:26: FutureWarning: Indexing with multiple keys (implicitly converted to a tuple of keys) will be deprecated, use a list instead.\n",
      "  data_for_presence=graph_data.groupby(['gender','ancestry', 'bmi'])['hypertention', 'diabetes'].apply(lambda x: (x==0).sum().apply(lambda x: ((x/97)*100)))\n",
      "<ipython-input-87-71f6057c3014>:25: FutureWarning: Indexing with multiple keys (implicitly converted to a tuple of keys) will be deprecated, use a list instead.\n",
      "  data_for_lack=graph_data.groupby(['gender','ancestry', 'bmi'])['hypertention', 'diabetes'].apply(lambda x: (x==0).sum().apply(lambda x: ((x/97)*100)))\n",
      "<ipython-input-87-71f6057c3014>:26: FutureWarning: Indexing with multiple keys (implicitly converted to a tuple of keys) will be deprecated, use a list instead.\n",
      "  data_for_presence=graph_data.groupby(['gender','ancestry', 'bmi'])['hypertention', 'diabetes'].apply(lambda x: (x==0).sum().apply(lambda x: ((x/97)*100)))\n",
      "<ipython-input-87-71f6057c3014>:25: FutureWarning: Indexing with multiple keys (implicitly converted to a tuple of keys) will be deprecated, use a list instead.\n",
      "  data_for_lack=graph_data.groupby(['gender','ancestry', 'bmi'])['hypertention', 'diabetes'].apply(lambda x: (x==0).sum().apply(lambda x: ((x/97)*100)))\n",
      "<ipython-input-87-71f6057c3014>:26: FutureWarning: Indexing with multiple keys (implicitly converted to a tuple of keys) will be deprecated, use a list instead.\n",
      "  data_for_presence=graph_data.groupby(['gender','ancestry', 'bmi'])['hypertention', 'diabetes'].apply(lambda x: (x==0).sum().apply(lambda x: ((x/97)*100)))\n"
     ]
    },
    {
     "name": "stderr",
     "output_type": "stream",
     "text": [
      "<ipython-input-87-71f6057c3014>:25: FutureWarning: Indexing with multiple keys (implicitly converted to a tuple of keys) will be deprecated, use a list instead.\n",
      "  data_for_lack=graph_data.groupby(['gender','ancestry', 'bmi'])['hypertention', 'diabetes'].apply(lambda x: (x==0).sum().apply(lambda x: ((x/97)*100)))\n",
      "<ipython-input-87-71f6057c3014>:26: FutureWarning: Indexing with multiple keys (implicitly converted to a tuple of keys) will be deprecated, use a list instead.\n",
      "  data_for_presence=graph_data.groupby(['gender','ancestry', 'bmi'])['hypertention', 'diabetes'].apply(lambda x: (x==0).sum().apply(lambda x: ((x/97)*100)))\n",
      "<ipython-input-87-71f6057c3014>:25: FutureWarning: Indexing with multiple keys (implicitly converted to a tuple of keys) will be deprecated, use a list instead.\n",
      "  data_for_lack=graph_data.groupby(['gender','ancestry', 'bmi'])['hypertention', 'diabetes'].apply(lambda x: (x==0).sum().apply(lambda x: ((x/97)*100)))\n",
      "<ipython-input-87-71f6057c3014>:26: FutureWarning: Indexing with multiple keys (implicitly converted to a tuple of keys) will be deprecated, use a list instead.\n",
      "  data_for_presence=graph_data.groupby(['gender','ancestry', 'bmi'])['hypertention', 'diabetes'].apply(lambda x: (x==0).sum().apply(lambda x: ((x/97)*100)))\n",
      "<ipython-input-87-71f6057c3014>:25: FutureWarning: Indexing with multiple keys (implicitly converted to a tuple of keys) will be deprecated, use a list instead.\n",
      "  data_for_lack=graph_data.groupby(['gender','ancestry', 'bmi'])['hypertention', 'diabetes'].apply(lambda x: (x==0).sum().apply(lambda x: ((x/97)*100)))\n",
      "<ipython-input-87-71f6057c3014>:26: FutureWarning: Indexing with multiple keys (implicitly converted to a tuple of keys) will be deprecated, use a list instead.\n",
      "  data_for_presence=graph_data.groupby(['gender','ancestry', 'bmi'])['hypertention', 'diabetes'].apply(lambda x: (x==0).sum().apply(lambda x: ((x/97)*100)))\n",
      "<ipython-input-87-71f6057c3014>:25: FutureWarning: Indexing with multiple keys (implicitly converted to a tuple of keys) will be deprecated, use a list instead.\n",
      "  data_for_lack=graph_data.groupby(['gender','ancestry', 'bmi'])['hypertention', 'diabetes'].apply(lambda x: (x==0).sum().apply(lambda x: ((x/97)*100)))\n",
      "<ipython-input-87-71f6057c3014>:26: FutureWarning: Indexing with multiple keys (implicitly converted to a tuple of keys) will be deprecated, use a list instead.\n",
      "  data_for_presence=graph_data.groupby(['gender','ancestry', 'bmi'])['hypertention', 'diabetes'].apply(lambda x: (x==0).sum().apply(lambda x: ((x/97)*100)))\n",
      "<ipython-input-87-71f6057c3014>:25: FutureWarning: Indexing with multiple keys (implicitly converted to a tuple of keys) will be deprecated, use a list instead.\n",
      "  data_for_lack=graph_data.groupby(['gender','ancestry', 'bmi'])['hypertention', 'diabetes'].apply(lambda x: (x==0).sum().apply(lambda x: ((x/97)*100)))\n",
      "<ipython-input-87-71f6057c3014>:26: FutureWarning: Indexing with multiple keys (implicitly converted to a tuple of keys) will be deprecated, use a list instead.\n",
      "  data_for_presence=graph_data.groupby(['gender','ancestry', 'bmi'])['hypertention', 'diabetes'].apply(lambda x: (x==0).sum().apply(lambda x: ((x/97)*100)))\n",
      "<ipython-input-87-71f6057c3014>:25: FutureWarning: Indexing with multiple keys (implicitly converted to a tuple of keys) will be deprecated, use a list instead.\n",
      "  data_for_lack=graph_data.groupby(['gender','ancestry', 'bmi'])['hypertention', 'diabetes'].apply(lambda x: (x==0).sum().apply(lambda x: ((x/97)*100)))\n",
      "<ipython-input-87-71f6057c3014>:26: FutureWarning: Indexing with multiple keys (implicitly converted to a tuple of keys) will be deprecated, use a list instead.\n",
      "  data_for_presence=graph_data.groupby(['gender','ancestry', 'bmi'])['hypertention', 'diabetes'].apply(lambda x: (x==0).sum().apply(lambda x: ((x/97)*100)))\n",
      "<ipython-input-87-71f6057c3014>:25: FutureWarning: Indexing with multiple keys (implicitly converted to a tuple of keys) will be deprecated, use a list instead.\n",
      "  data_for_lack=graph_data.groupby(['gender','ancestry', 'bmi'])['hypertention', 'diabetes'].apply(lambda x: (x==0).sum().apply(lambda x: ((x/97)*100)))\n",
      "<ipython-input-87-71f6057c3014>:26: FutureWarning: Indexing with multiple keys (implicitly converted to a tuple of keys) will be deprecated, use a list instead.\n",
      "  data_for_presence=graph_data.groupby(['gender','ancestry', 'bmi'])['hypertention', 'diabetes'].apply(lambda x: (x==0).sum().apply(lambda x: ((x/97)*100)))\n",
      "<ipython-input-87-71f6057c3014>:25: FutureWarning: Indexing with multiple keys (implicitly converted to a tuple of keys) will be deprecated, use a list instead.\n",
      "  data_for_lack=graph_data.groupby(['gender','ancestry', 'bmi'])['hypertention', 'diabetes'].apply(lambda x: (x==0).sum().apply(lambda x: ((x/97)*100)))\n",
      "<ipython-input-87-71f6057c3014>:26: FutureWarning: Indexing with multiple keys (implicitly converted to a tuple of keys) will be deprecated, use a list instead.\n",
      "  data_for_presence=graph_data.groupby(['gender','ancestry', 'bmi'])['hypertention', 'diabetes'].apply(lambda x: (x==0).sum().apply(lambda x: ((x/97)*100)))\n",
      "<ipython-input-87-71f6057c3014>:25: FutureWarning: Indexing with multiple keys (implicitly converted to a tuple of keys) will be deprecated, use a list instead.\n",
      "  data_for_lack=graph_data.groupby(['gender','ancestry', 'bmi'])['hypertention', 'diabetes'].apply(lambda x: (x==0).sum().apply(lambda x: ((x/97)*100)))\n",
      "<ipython-input-87-71f6057c3014>:26: FutureWarning: Indexing with multiple keys (implicitly converted to a tuple of keys) will be deprecated, use a list instead.\n",
      "  data_for_presence=graph_data.groupby(['gender','ancestry', 'bmi'])['hypertention', 'diabetes'].apply(lambda x: (x==0).sum().apply(lambda x: ((x/97)*100)))\n",
      "<ipython-input-87-71f6057c3014>:25: FutureWarning: Indexing with multiple keys (implicitly converted to a tuple of keys) will be deprecated, use a list instead.\n",
      "  data_for_lack=graph_data.groupby(['gender','ancestry', 'bmi'])['hypertention', 'diabetes'].apply(lambda x: (x==0).sum().apply(lambda x: ((x/97)*100)))\n",
      "<ipython-input-87-71f6057c3014>:26: FutureWarning: Indexing with multiple keys (implicitly converted to a tuple of keys) will be deprecated, use a list instead.\n",
      "  data_for_presence=graph_data.groupby(['gender','ancestry', 'bmi'])['hypertention', 'diabetes'].apply(lambda x: (x==0).sum().apply(lambda x: ((x/97)*100)))\n",
      "<ipython-input-87-71f6057c3014>:25: FutureWarning: Indexing with multiple keys (implicitly converted to a tuple of keys) will be deprecated, use a list instead.\n",
      "  data_for_lack=graph_data.groupby(['gender','ancestry', 'bmi'])['hypertention', 'diabetes'].apply(lambda x: (x==0).sum().apply(lambda x: ((x/97)*100)))\n",
      "<ipython-input-87-71f6057c3014>:26: FutureWarning: Indexing with multiple keys (implicitly converted to a tuple of keys) will be deprecated, use a list instead.\n",
      "  data_for_presence=graph_data.groupby(['gender','ancestry', 'bmi'])['hypertention', 'diabetes'].apply(lambda x: (x==0).sum().apply(lambda x: ((x/97)*100)))\n"
     ]
    },
    {
     "data": {
      "text/plain": [
       "<Figure size 1080x1080 with 0 Axes>"
      ]
     },
     "metadata": {},
     "output_type": "display_data"
    },
    {
     "data": {
      "text/plain": [
       "<Figure size 1080x1080 with 0 Axes>"
      ]
     },
     "metadata": {},
     "output_type": "display_data"
    },
    {
     "data": {
      "text/plain": [
       "<Figure size 1080x1080 with 0 Axes>"
      ]
     },
     "metadata": {},
     "output_type": "display_data"
    },
    {
     "data": {
      "text/plain": [
       "<Figure size 1080x1080 with 0 Axes>"
      ]
     },
     "metadata": {},
     "output_type": "display_data"
    },
    {
     "data": {
      "text/plain": [
       "<Figure size 1080x1080 with 0 Axes>"
      ]
     },
     "metadata": {},
     "output_type": "display_data"
    },
    {
     "data": {
      "text/plain": [
       "<Figure size 1080x1080 with 0 Axes>"
      ]
     },
     "metadata": {},
     "output_type": "display_data"
    },
    {
     "data": {
      "text/plain": [
       "<Figure size 1080x1080 with 0 Axes>"
      ]
     },
     "metadata": {},
     "output_type": "display_data"
    },
    {
     "data": {
      "text/plain": [
       "<Figure size 1080x1080 with 0 Axes>"
      ]
     },
     "metadata": {},
     "output_type": "display_data"
    },
    {
     "data": {
      "text/plain": [
       "<Figure size 1080x1080 with 0 Axes>"
      ]
     },
     "metadata": {},
     "output_type": "display_data"
    },
    {
     "data": {
      "text/plain": [
       "<Figure size 1080x1080 with 0 Axes>"
      ]
     },
     "metadata": {},
     "output_type": "display_data"
    },
    {
     "data": {
      "text/plain": [
       "<Figure size 1080x1080 with 0 Axes>"
      ]
     },
     "metadata": {},
     "output_type": "display_data"
    },
    {
     "data": {
      "text/plain": [
       "<Figure size 1080x1080 with 0 Axes>"
      ]
     },
     "metadata": {},
     "output_type": "display_data"
    },
    {
     "data": {
      "text/plain": [
       "<Figure size 1080x1080 with 0 Axes>"
      ]
     },
     "metadata": {},
     "output_type": "display_data"
    },
    {
     "data": {
      "text/plain": [
       "<Figure size 1080x1080 with 0 Axes>"
      ]
     },
     "metadata": {},
     "output_type": "display_data"
    },
    {
     "data": {
      "text/plain": [
       "<Figure size 1080x1080 with 0 Axes>"
      ]
     },
     "metadata": {},
     "output_type": "display_data"
    },
    {
     "data": {
      "text/plain": [
       "<Figure size 1080x1080 with 0 Axes>"
      ]
     },
     "metadata": {},
     "output_type": "display_data"
    },
    {
     "data": {
      "text/plain": [
       "<Figure size 1080x1080 with 0 Axes>"
      ]
     },
     "metadata": {},
     "output_type": "display_data"
    },
    {
     "data": {
      "text/plain": [
       "<Figure size 1080x1080 with 0 Axes>"
      ]
     },
     "metadata": {},
     "output_type": "display_data"
    },
    {
     "data": {
      "text/plain": [
       "<Figure size 1080x1080 with 0 Axes>"
      ]
     },
     "metadata": {},
     "output_type": "display_data"
    },
    {
     "data": {
      "text/plain": [
       "<Figure size 1080x1080 with 0 Axes>"
      ]
     },
     "metadata": {},
     "output_type": "display_data"
    },
    {
     "data": {
      "text/plain": [
       "<Figure size 1080x1080 with 0 Axes>"
      ]
     },
     "metadata": {},
     "output_type": "display_data"
    },
    {
     "data": {
      "text/plain": [
       "<Figure size 1080x1080 with 0 Axes>"
      ]
     },
     "metadata": {},
     "output_type": "display_data"
    },
    {
     "data": {
      "text/plain": [
       "<Figure size 1080x1080 with 0 Axes>"
      ]
     },
     "metadata": {},
     "output_type": "display_data"
    },
    {
     "data": {
      "text/plain": [
       "<Figure size 1080x1080 with 0 Axes>"
      ]
     },
     "metadata": {},
     "output_type": "display_data"
    },
    {
     "data": {
      "text/plain": [
       "<Figure size 1080x1080 with 0 Axes>"
      ]
     },
     "metadata": {},
     "output_type": "display_data"
    },
    {
     "data": {
      "text/plain": [
       "<Figure size 1080x1080 with 0 Axes>"
      ]
     },
     "metadata": {},
     "output_type": "display_data"
    },
    {
     "data": {
      "text/plain": [
       "<Figure size 1080x1080 with 0 Axes>"
      ]
     },
     "metadata": {},
     "output_type": "display_data"
    },
    {
     "data": {
      "text/plain": [
       "<Figure size 1080x1080 with 0 Axes>"
      ]
     },
     "metadata": {},
     "output_type": "display_data"
    },
    {
     "data": {
      "text/plain": [
       "<Figure size 1080x1080 with 0 Axes>"
      ]
     },
     "metadata": {},
     "output_type": "display_data"
    },
    {
     "data": {
      "text/plain": [
       "<Figure size 1080x1080 with 0 Axes>"
      ]
     },
     "metadata": {},
     "output_type": "display_data"
    },
    {
     "data": {
      "text/plain": [
       "<Figure size 1080x1080 with 0 Axes>"
      ]
     },
     "metadata": {},
     "output_type": "display_data"
    },
    {
     "data": {
      "text/plain": [
       "<Figure size 1080x1080 with 0 Axes>"
      ]
     },
     "metadata": {},
     "output_type": "display_data"
    },
    {
     "data": {
      "text/plain": [
       "<Figure size 1080x1080 with 0 Axes>"
      ]
     },
     "metadata": {},
     "output_type": "display_data"
    },
    {
     "data": {
      "text/plain": [
       "<Figure size 1080x1080 with 0 Axes>"
      ]
     },
     "metadata": {},
     "output_type": "display_data"
    },
    {
     "data": {
      "text/plain": [
       "<Figure size 1080x1080 with 0 Axes>"
      ]
     },
     "metadata": {},
     "output_type": "display_data"
    },
    {
     "data": {
      "text/plain": [
       "<Figure size 1080x1080 with 0 Axes>"
      ]
     },
     "metadata": {},
     "output_type": "display_data"
    },
    {
     "data": {
      "text/plain": [
       "<Figure size 1080x1080 with 0 Axes>"
      ]
     },
     "metadata": {},
     "output_type": "display_data"
    },
    {
     "data": {
      "text/plain": [
       "<Figure size 1080x1080 with 0 Axes>"
      ]
     },
     "metadata": {},
     "output_type": "display_data"
    },
    {
     "data": {
      "text/plain": [
       "<Figure size 1080x1080 with 0 Axes>"
      ]
     },
     "metadata": {},
     "output_type": "display_data"
    },
    {
     "data": {
      "text/plain": [
       "<Figure size 1080x1080 with 0 Axes>"
      ]
     },
     "metadata": {},
     "output_type": "display_data"
    },
    {
     "data": {
      "text/plain": [
       "<Figure size 1080x1080 with 0 Axes>"
      ]
     },
     "metadata": {},
     "output_type": "display_data"
    },
    {
     "data": {
      "text/plain": [
       "<Figure size 1080x1080 with 0 Axes>"
      ]
     },
     "metadata": {},
     "output_type": "display_data"
    },
    {
     "data": {
      "text/plain": [
       "<Figure size 1080x1080 with 0 Axes>"
      ]
     },
     "metadata": {},
     "output_type": "display_data"
    },
    {
     "data": {
      "text/plain": [
       "<Figure size 1080x1080 with 0 Axes>"
      ]
     },
     "metadata": {},
     "output_type": "display_data"
    },
    {
     "data": {
      "text/plain": [
       "<Figure size 1080x1080 with 0 Axes>"
      ]
     },
     "metadata": {},
     "output_type": "display_data"
    },
    {
     "data": {
      "text/plain": [
       "<Figure size 1080x1080 with 0 Axes>"
      ]
     },
     "metadata": {},
     "output_type": "display_data"
    },
    {
     "data": {
      "text/plain": [
       "<Figure size 1080x1080 with 0 Axes>"
      ]
     },
     "metadata": {},
     "output_type": "display_data"
    },
    {
     "data": {
      "text/plain": [
       "<Figure size 1080x1080 with 0 Axes>"
      ]
     },
     "metadata": {},
     "output_type": "display_data"
    },
    {
     "data": {
      "text/plain": [
       "<Figure size 1080x1080 with 0 Axes>"
      ]
     },
     "metadata": {},
     "output_type": "display_data"
    },
    {
     "data": {
      "text/plain": [
       "<Figure size 1080x1080 with 0 Axes>"
      ]
     },
     "metadata": {},
     "output_type": "display_data"
    },
    {
     "data": {
      "text/plain": [
       "<Figure size 1080x1080 with 0 Axes>"
      ]
     },
     "metadata": {},
     "output_type": "display_data"
    },
    {
     "data": {
      "text/plain": [
       "<Figure size 1080x1080 with 0 Axes>"
      ]
     },
     "metadata": {},
     "output_type": "display_data"
    },
    {
     "data": {
      "text/plain": [
       "<Figure size 1080x1080 with 0 Axes>"
      ]
     },
     "metadata": {},
     "output_type": "display_data"
    },
    {
     "data": {
      "text/plain": [
       "<Figure size 1080x1080 with 0 Axes>"
      ]
     },
     "metadata": {},
     "output_type": "display_data"
    },
    {
     "data": {
      "text/plain": [
       "<Figure size 1080x1080 with 0 Axes>"
      ]
     },
     "metadata": {},
     "output_type": "display_data"
    },
    {
     "data": {
      "text/plain": [
       "<Figure size 1080x1080 with 0 Axes>"
      ]
     },
     "metadata": {},
     "output_type": "display_data"
    },
    {
     "data": {
      "text/plain": [
       "<Figure size 1080x1080 with 0 Axes>"
      ]
     },
     "metadata": {},
     "output_type": "display_data"
    },
    {
     "data": {
      "text/plain": [
       "<Figure size 1080x1080 with 0 Axes>"
      ]
     },
     "metadata": {},
     "output_type": "display_data"
    },
    {
     "data": {
      "text/plain": [
       "<Figure size 1080x1080 with 0 Axes>"
      ]
     },
     "metadata": {},
     "output_type": "display_data"
    },
    {
     "data": {
      "text/plain": [
       "<Figure size 1080x1080 with 0 Axes>"
      ]
     },
     "metadata": {},
     "output_type": "display_data"
    },
    {
     "data": {
      "text/plain": [
       "<Figure size 1080x1080 with 0 Axes>"
      ]
     },
     "metadata": {},
     "output_type": "display_data"
    },
    {
     "data": {
      "text/plain": [
       "<Figure size 1080x1080 with 0 Axes>"
      ]
     },
     "metadata": {},
     "output_type": "display_data"
    },
    {
     "data": {
      "text/plain": [
       "<Figure size 1080x1080 with 0 Axes>"
      ]
     },
     "metadata": {},
     "output_type": "display_data"
    },
    {
     "data": {
      "text/plain": [
       "<Figure size 1080x1080 with 0 Axes>"
      ]
     },
     "metadata": {},
     "output_type": "display_data"
    },
    {
     "data": {
      "text/plain": [
       "<Figure size 1080x1080 with 0 Axes>"
      ]
     },
     "metadata": {},
     "output_type": "display_data"
    },
    {
     "data": {
      "text/plain": [
       "<Figure size 1080x1080 with 0 Axes>"
      ]
     },
     "metadata": {},
     "output_type": "display_data"
    },
    {
     "data": {
      "text/plain": [
       "<Figure size 1080x1080 with 0 Axes>"
      ]
     },
     "metadata": {},
     "output_type": "display_data"
    },
    {
     "data": {
      "text/plain": [
       "<Figure size 1080x1080 with 0 Axes>"
      ]
     },
     "metadata": {},
     "output_type": "display_data"
    },
    {
     "data": {
      "text/plain": [
       "<Figure size 1080x1080 with 0 Axes>"
      ]
     },
     "metadata": {},
     "output_type": "display_data"
    },
    {
     "data": {
      "text/plain": [
       "<Figure size 1080x1080 with 0 Axes>"
      ]
     },
     "metadata": {},
     "output_type": "display_data"
    },
    {
     "data": {
      "text/plain": [
       "<Figure size 1080x1080 with 0 Axes>"
      ]
     },
     "metadata": {},
     "output_type": "display_data"
    },
    {
     "data": {
      "text/plain": [
       "<Figure size 1080x1080 with 0 Axes>"
      ]
     },
     "metadata": {},
     "output_type": "display_data"
    },
    {
     "data": {
      "text/plain": [
       "<Figure size 1080x1080 with 0 Axes>"
      ]
     },
     "metadata": {},
     "output_type": "display_data"
    },
    {
     "data": {
      "text/plain": [
       "<Figure size 1080x1080 with 0 Axes>"
      ]
     },
     "metadata": {},
     "output_type": "display_data"
    },
    {
     "data": {
      "text/plain": [
       "<Figure size 1080x1080 with 0 Axes>"
      ]
     },
     "metadata": {},
     "output_type": "display_data"
    },
    {
     "data": {
      "text/plain": [
       "<Figure size 1080x1080 with 0 Axes>"
      ]
     },
     "metadata": {},
     "output_type": "display_data"
    },
    {
     "data": {
      "text/plain": [
       "<Figure size 1080x1080 with 0 Axes>"
      ]
     },
     "metadata": {},
     "output_type": "display_data"
    },
    {
     "data": {
      "text/plain": [
       "<Figure size 1080x1080 with 0 Axes>"
      ]
     },
     "metadata": {},
     "output_type": "display_data"
    },
    {
     "data": {
      "text/plain": [
       "<Figure size 1080x1080 with 0 Axes>"
      ]
     },
     "metadata": {},
     "output_type": "display_data"
    },
    {
     "data": {
      "text/plain": [
       "<Figure size 1080x1080 with 0 Axes>"
      ]
     },
     "metadata": {},
     "output_type": "display_data"
    },
    {
     "data": {
      "text/plain": [
       "<Figure size 1080x1080 with 0 Axes>"
      ]
     },
     "metadata": {},
     "output_type": "display_data"
    },
    {
     "data": {
      "text/plain": [
       "<Figure size 1080x1080 with 0 Axes>"
      ]
     },
     "metadata": {},
     "output_type": "display_data"
    },
    {
     "data": {
      "text/plain": [
       "<Figure size 1080x1080 with 0 Axes>"
      ]
     },
     "metadata": {},
     "output_type": "display_data"
    },
    {
     "data": {
      "text/plain": [
       "<Figure size 1080x1080 with 0 Axes>"
      ]
     },
     "metadata": {},
     "output_type": "display_data"
    },
    {
     "data": {
      "text/plain": [
       "<Figure size 1080x1080 with 0 Axes>"
      ]
     },
     "metadata": {},
     "output_type": "display_data"
    },
    {
     "data": {
      "text/plain": [
       "<Figure size 1080x1080 with 0 Axes>"
      ]
     },
     "metadata": {},
     "output_type": "display_data"
    },
    {
     "data": {
      "text/plain": [
       "<Figure size 1080x1080 with 0 Axes>"
      ]
     },
     "metadata": {},
     "output_type": "display_data"
    },
    {
     "data": {
      "text/plain": [
       "<Figure size 1080x1080 with 0 Axes>"
      ]
     },
     "metadata": {},
     "output_type": "display_data"
    },
    {
     "data": {
      "text/plain": [
       "<Figure size 1080x1080 with 0 Axes>"
      ]
     },
     "metadata": {},
     "output_type": "display_data"
    },
    {
     "data": {
      "text/plain": [
       "<Figure size 1080x1080 with 0 Axes>"
      ]
     },
     "metadata": {},
     "output_type": "display_data"
    },
    {
     "data": {
      "text/plain": [
       "<Figure size 1080x1080 with 0 Axes>"
      ]
     },
     "metadata": {},
     "output_type": "display_data"
    },
    {
     "data": {
      "text/plain": [
       "<Figure size 1080x1080 with 0 Axes>"
      ]
     },
     "metadata": {},
     "output_type": "display_data"
    },
    {
     "data": {
      "text/plain": [
       "<Figure size 1080x1080 with 0 Axes>"
      ]
     },
     "metadata": {},
     "output_type": "display_data"
    },
    {
     "data": {
      "text/plain": [
       "<Figure size 1080x1080 with 0 Axes>"
      ]
     },
     "metadata": {},
     "output_type": "display_data"
    },
    {
     "data": {
      "text/plain": [
       "<Figure size 1080x1080 with 0 Axes>"
      ]
     },
     "metadata": {},
     "output_type": "display_data"
    },
    {
     "data": {
      "text/plain": [
       "<Figure size 1080x1080 with 0 Axes>"
      ]
     },
     "metadata": {},
     "output_type": "display_data"
    },
    {
     "data": {
      "text/plain": [
       "<Figure size 1080x1080 with 0 Axes>"
      ]
     },
     "metadata": {},
     "output_type": "display_data"
    },
    {
     "data": {
      "text/plain": [
       "<Figure size 1080x1080 with 0 Axes>"
      ]
     },
     "metadata": {},
     "output_type": "display_data"
    },
    {
     "data": {
      "text/plain": [
       "<Figure size 1080x1080 with 0 Axes>"
      ]
     },
     "metadata": {},
     "output_type": "display_data"
    },
    {
     "data": {
      "text/plain": [
       "<Figure size 1080x1080 with 0 Axes>"
      ]
     },
     "metadata": {},
     "output_type": "display_data"
    },
    {
     "data": {
      "text/plain": [
       "<Figure size 1080x1080 with 0 Axes>"
      ]
     },
     "metadata": {},
     "output_type": "display_data"
    },
    {
     "data": {
      "text/plain": [
       "<Figure size 1080x1080 with 0 Axes>"
      ]
     },
     "metadata": {},
     "output_type": "display_data"
    },
    {
     "data": {
      "text/plain": [
       "<Figure size 1080x1080 with 0 Axes>"
      ]
     },
     "metadata": {},
     "output_type": "display_data"
    },
    {
     "data": {
      "text/plain": [
       "<Figure size 1080x1080 with 0 Axes>"
      ]
     },
     "metadata": {},
     "output_type": "display_data"
    },
    {
     "data": {
      "text/plain": [
       "<Figure size 1080x1080 with 0 Axes>"
      ]
     },
     "metadata": {},
     "output_type": "display_data"
    },
    {
     "data": {
      "text/plain": [
       "<Figure size 1080x1080 with 0 Axes>"
      ]
     },
     "metadata": {},
     "output_type": "display_data"
    },
    {
     "data": {
      "text/plain": [
       "<Figure size 1080x1080 with 0 Axes>"
      ]
     },
     "metadata": {},
     "output_type": "display_data"
    },
    {
     "data": {
      "text/plain": [
       "<Figure size 1080x1080 with 0 Axes>"
      ]
     },
     "metadata": {},
     "output_type": "display_data"
    },
    {
     "data": {
      "text/plain": [
       "<Figure size 1080x1080 with 0 Axes>"
      ]
     },
     "metadata": {},
     "output_type": "display_data"
    },
    {
     "data": {
      "text/plain": [
       "<Figure size 1080x1080 with 0 Axes>"
      ]
     },
     "metadata": {},
     "output_type": "display_data"
    },
    {
     "data": {
      "text/plain": [
       "<Figure size 1080x1080 with 0 Axes>"
      ]
     },
     "metadata": {},
     "output_type": "display_data"
    },
    {
     "data": {
      "text/plain": [
       "<Figure size 1080x1080 with 0 Axes>"
      ]
     },
     "metadata": {},
     "output_type": "display_data"
    },
    {
     "data": {
      "text/plain": [
       "<Figure size 1080x1080 with 0 Axes>"
      ]
     },
     "metadata": {},
     "output_type": "display_data"
    },
    {
     "data": {
      "text/plain": [
       "<Figure size 1080x1080 with 0 Axes>"
      ]
     },
     "metadata": {},
     "output_type": "display_data"
    },
    {
     "data": {
      "text/plain": [
       "<Figure size 1080x1080 with 0 Axes>"
      ]
     },
     "metadata": {},
     "output_type": "display_data"
    },
    {
     "data": {
      "text/plain": [
       "<Figure size 1080x1080 with 0 Axes>"
      ]
     },
     "metadata": {},
     "output_type": "display_data"
    },
    {
     "data": {
      "text/plain": [
       "<Figure size 1080x1080 with 0 Axes>"
      ]
     },
     "metadata": {},
     "output_type": "display_data"
    },
    {
     "data": {
      "text/plain": [
       "<Figure size 1080x1080 with 0 Axes>"
      ]
     },
     "metadata": {},
     "output_type": "display_data"
    },
    {
     "data": {
      "text/plain": [
       "<Figure size 1080x1080 with 0 Axes>"
      ]
     },
     "metadata": {},
     "output_type": "display_data"
    },
    {
     "data": {
      "text/plain": [
       "<Figure size 1080x1080 with 0 Axes>"
      ]
     },
     "metadata": {},
     "output_type": "display_data"
    },
    {
     "data": {
      "text/plain": [
       "<Figure size 1080x1080 with 0 Axes>"
      ]
     },
     "metadata": {},
     "output_type": "display_data"
    },
    {
     "data": {
      "text/plain": [
       "<Figure size 1080x1080 with 0 Axes>"
      ]
     },
     "metadata": {},
     "output_type": "display_data"
    },
    {
     "data": {
      "text/plain": [
       "<Figure size 1080x1080 with 0 Axes>"
      ]
     },
     "metadata": {},
     "output_type": "display_data"
    },
    {
     "data": {
      "text/plain": [
       "<Figure size 1080x1080 with 0 Axes>"
      ]
     },
     "metadata": {},
     "output_type": "display_data"
    },
    {
     "data": {
      "text/plain": [
       "<Figure size 1080x1080 with 0 Axes>"
      ]
     },
     "metadata": {},
     "output_type": "display_data"
    },
    {
     "data": {
      "text/plain": [
       "<Figure size 1080x1080 with 0 Axes>"
      ]
     },
     "metadata": {},
     "output_type": "display_data"
    },
    {
     "data": {
      "text/plain": [
       "<Figure size 1080x1080 with 0 Axes>"
      ]
     },
     "metadata": {},
     "output_type": "display_data"
    },
    {
     "data": {
      "text/plain": [
       "<Figure size 1080x1080 with 0 Axes>"
      ]
     },
     "metadata": {},
     "output_type": "display_data"
    },
    {
     "data": {
      "text/plain": [
       "<Figure size 1080x1080 with 0 Axes>"
      ]
     },
     "metadata": {},
     "output_type": "display_data"
    },
    {
     "data": {
      "text/plain": [
       "<Figure size 1080x1080 with 0 Axes>"
      ]
     },
     "metadata": {},
     "output_type": "display_data"
    },
    {
     "data": {
      "text/plain": [
       "<Figure size 1080x1080 with 0 Axes>"
      ]
     },
     "metadata": {},
     "output_type": "display_data"
    },
    {
     "data": {
      "text/plain": [
       "<Figure size 1080x1080 with 0 Axes>"
      ]
     },
     "metadata": {},
     "output_type": "display_data"
    },
    {
     "data": {
      "text/plain": [
       "<Figure size 1080x1080 with 0 Axes>"
      ]
     },
     "metadata": {},
     "output_type": "display_data"
    },
    {
     "data": {
      "text/plain": [
       "<Figure size 1080x1080 with 0 Axes>"
      ]
     },
     "metadata": {},
     "output_type": "display_data"
    },
    {
     "data": {
      "text/plain": [
       "<Figure size 1080x1080 with 0 Axes>"
      ]
     },
     "metadata": {},
     "output_type": "display_data"
    },
    {
     "data": {
      "text/plain": [
       "<Figure size 1080x1080 with 0 Axes>"
      ]
     },
     "metadata": {},
     "output_type": "display_data"
    },
    {
     "data": {
      "text/plain": [
       "<Figure size 1080x1080 with 0 Axes>"
      ]
     },
     "metadata": {},
     "output_type": "display_data"
    },
    {
     "data": {
      "text/plain": [
       "<Figure size 1080x1080 with 0 Axes>"
      ]
     },
     "metadata": {},
     "output_type": "display_data"
    },
    {
     "data": {
      "text/plain": [
       "<Figure size 1080x1080 with 0 Axes>"
      ]
     },
     "metadata": {},
     "output_type": "display_data"
    },
    {
     "data": {
      "text/plain": [
       "<Figure size 1080x1080 with 0 Axes>"
      ]
     },
     "metadata": {},
     "output_type": "display_data"
    },
    {
     "data": {
      "text/plain": [
       "<Figure size 1080x1080 with 0 Axes>"
      ]
     },
     "metadata": {},
     "output_type": "display_data"
    },
    {
     "data": {
      "text/plain": [
       "<Figure size 1080x1080 with 0 Axes>"
      ]
     },
     "metadata": {},
     "output_type": "display_data"
    },
    {
     "data": {
      "text/plain": [
       "<Figure size 1080x1080 with 0 Axes>"
      ]
     },
     "metadata": {},
     "output_type": "display_data"
    },
    {
     "data": {
      "text/plain": [
       "<Figure size 1080x1080 with 0 Axes>"
      ]
     },
     "metadata": {},
     "output_type": "display_data"
    },
    {
     "data": {
      "text/plain": [
       "<Figure size 1080x1080 with 0 Axes>"
      ]
     },
     "metadata": {},
     "output_type": "display_data"
    },
    {
     "data": {
      "text/plain": [
       "<Figure size 1080x1080 with 0 Axes>"
      ]
     },
     "metadata": {},
     "output_type": "display_data"
    },
    {
     "data": {
      "text/plain": [
       "<Figure size 1080x1080 with 0 Axes>"
      ]
     },
     "metadata": {},
     "output_type": "display_data"
    },
    {
     "data": {
      "text/plain": [
       "<Figure size 1080x1080 with 0 Axes>"
      ]
     },
     "metadata": {},
     "output_type": "display_data"
    },
    {
     "data": {
      "text/plain": [
       "<Figure size 1080x1080 with 0 Axes>"
      ]
     },
     "metadata": {},
     "output_type": "display_data"
    },
    {
     "data": {
      "text/plain": [
       "<Figure size 1080x1080 with 0 Axes>"
      ]
     },
     "metadata": {},
     "output_type": "display_data"
    },
    {
     "data": {
      "text/plain": [
       "<Figure size 1080x1080 with 0 Axes>"
      ]
     },
     "metadata": {},
     "output_type": "display_data"
    },
    {
     "data": {
      "text/plain": [
       "<Figure size 1080x1080 with 0 Axes>"
      ]
     },
     "metadata": {},
     "output_type": "display_data"
    },
    {
     "data": {
      "text/plain": [
       "<Figure size 1080x1080 with 0 Axes>"
      ]
     },
     "metadata": {},
     "output_type": "display_data"
    },
    {
     "data": {
      "text/plain": [
       "<Figure size 1080x1080 with 0 Axes>"
      ]
     },
     "metadata": {},
     "output_type": "display_data"
    },
    {
     "data": {
      "text/plain": [
       "<Figure size 1080x1080 with 0 Axes>"
      ]
     },
     "metadata": {},
     "output_type": "display_data"
    },
    {
     "data": {
      "text/plain": [
       "<Figure size 1080x1080 with 0 Axes>"
      ]
     },
     "metadata": {},
     "output_type": "display_data"
    },
    {
     "data": {
      "text/plain": [
       "<Figure size 1080x1080 with 0 Axes>"
      ]
     },
     "metadata": {},
     "output_type": "display_data"
    },
    {
     "data": {
      "text/plain": [
       "<Figure size 1080x1080 with 0 Axes>"
      ]
     },
     "metadata": {},
     "output_type": "display_data"
    },
    {
     "data": {
      "text/plain": [
       "<Figure size 1080x1080 with 0 Axes>"
      ]
     },
     "metadata": {},
     "output_type": "display_data"
    },
    {
     "data": {
      "text/plain": [
       "<Figure size 1080x1080 with 0 Axes>"
      ]
     },
     "metadata": {},
     "output_type": "display_data"
    },
    {
     "data": {
      "text/plain": [
       "<Figure size 1080x1080 with 0 Axes>"
      ]
     },
     "metadata": {},
     "output_type": "display_data"
    },
    {
     "data": {
      "text/plain": [
       "<Figure size 1080x1080 with 0 Axes>"
      ]
     },
     "metadata": {},
     "output_type": "display_data"
    },
    {
     "data": {
      "text/plain": [
       "<Figure size 1080x1080 with 0 Axes>"
      ]
     },
     "metadata": {},
     "output_type": "display_data"
    },
    {
     "data": {
      "text/plain": [
       "<Figure size 1080x1080 with 0 Axes>"
      ]
     },
     "metadata": {},
     "output_type": "display_data"
    },
    {
     "data": {
      "text/plain": [
       "<Figure size 1080x1080 with 0 Axes>"
      ]
     },
     "metadata": {},
     "output_type": "display_data"
    },
    {
     "data": {
      "text/plain": [
       "<Figure size 1080x1080 with 0 Axes>"
      ]
     },
     "metadata": {},
     "output_type": "display_data"
    },
    {
     "data": {
      "text/plain": [
       "<Figure size 1080x1080 with 0 Axes>"
      ]
     },
     "metadata": {},
     "output_type": "display_data"
    },
    {
     "data": {
      "text/plain": [
       "<Figure size 1080x1080 with 0 Axes>"
      ]
     },
     "metadata": {},
     "output_type": "display_data"
    },
    {
     "data": {
      "text/plain": [
       "<Figure size 1080x1080 with 0 Axes>"
      ]
     },
     "metadata": {},
     "output_type": "display_data"
    },
    {
     "data": {
      "text/plain": [
       "<Figure size 1080x1080 with 0 Axes>"
      ]
     },
     "metadata": {},
     "output_type": "display_data"
    },
    {
     "data": {
      "text/plain": [
       "<Figure size 1080x1080 with 0 Axes>"
      ]
     },
     "metadata": {},
     "output_type": "display_data"
    },
    {
     "data": {
      "text/plain": [
       "<Figure size 1080x1080 with 0 Axes>"
      ]
     },
     "metadata": {},
     "output_type": "display_data"
    },
    {
     "data": {
      "text/plain": [
       "<Figure size 1080x1080 with 0 Axes>"
      ]
     },
     "metadata": {},
     "output_type": "display_data"
    },
    {
     "data": {
      "text/plain": [
       "<Figure size 1080x1080 with 0 Axes>"
      ]
     },
     "metadata": {},
     "output_type": "display_data"
    },
    {
     "data": {
      "text/plain": [
       "<Figure size 1080x1080 with 0 Axes>"
      ]
     },
     "metadata": {},
     "output_type": "display_data"
    },
    {
     "data": {
      "text/plain": [
       "<Figure size 1080x1080 with 0 Axes>"
      ]
     },
     "metadata": {},
     "output_type": "display_data"
    },
    {
     "data": {
      "text/plain": [
       "<Figure size 1080x1080 with 0 Axes>"
      ]
     },
     "metadata": {},
     "output_type": "display_data"
    },
    {
     "data": {
      "text/plain": [
       "<Figure size 1080x1080 with 0 Axes>"
      ]
     },
     "metadata": {},
     "output_type": "display_data"
    }
   ],
   "source": [
    "groupedData = newdf\n",
    "# traitNames list of all traits\n",
    "#unique assesments present in the chosen group\n",
    "#groupedData.first()\n",
    "#data=newdf.get_group(traitName)\n",
    "\n",
    "for trait in traitNames:\n",
    "   # print(trait)\n",
    "    trait_data=newdf.get_group(trait)\n",
    "    list_of_assessments = trait_data['assesment'].unique().tolist()\n",
    "#     print(list_of_assessments)\n",
    "#     print('-----')\n",
    "    traitName = trait\n",
    "    title_part1 = 'Percentages of Gender & Ancestry Segmentations for 4 BMI categories ' \n",
    "    title_part2 = ' of Hypertention & Diabetes for ' + traitName \n",
    "    graph_title_lack1 = title_part1 + 'lack' + title_part2 \n",
    "    graph_title_presence1 = title_part1 + 'presence' + title_part2\n",
    "    tempDF=trait_data.groupby('assesment')\n",
    "    for assessment in list_of_assessments:\n",
    "        graph_data=tempDF.get_group(assessment)\n",
    "        #make graph titles\n",
    "        graph_title_lack = graph_title_lack1 + ' for ' + assessment\n",
    "        graph_title_presence = graph_title_presence1 + ' for ' + assessment\n",
    "        \n",
    "        data_for_lack=graph_data.groupby(['gender','ancestry', 'bmi'])['hypertention', 'diabetes'].apply(lambda x: (x==0).sum().apply(lambda x: ((x/97)*100)))\n",
    "        data_for_presence=graph_data.groupby(['gender','ancestry', 'bmi'])['hypertention', 'diabetes'].apply(lambda x: (x==0).sum().apply(lambda x: ((x/97)*100)))\n",
    "    \n",
    "        data_for_lack.plot(kind='barh',stacked=True,rot=1, title=graph_title_lack, figsize=(15,15))\n",
    "        plt.yticks(ticks = [0,1,2,3,4,5,6,7,8,9,10,11,12],labels = ['(M,AA,Healthy)', '(M,AA,Overweight)','(M,AA,Obesity)','(M,CAU,Healthy)','(M,CAU,Overweight)','(M,CAU,Obesity)','(F,AA,Healthy)','(F,AA,Overweight)','(F,AA,Obesity)','(F,CAU,Under)','(F,CAU,Healthy)','(F,CAU,Overweight)','(F,CAU,Obesity)'], rotation = 'horizontal')\n",
    "        plt.tick_params(axis='x', colors='black')\n",
    "        plt.tick_params(axis='y', colors='black')\n",
    "        graph_name = graph_title_lack + '.png'\n",
    "        plt.savefig(graph_name, bbox_inches=\"tight\", facecolor=\"white\")\n",
    "        plt.clf()\n",
    "        \n",
    "        data_for_presence.plot(kind='barh',stacked=True,rot=1, title=graph_title_presence, figsize=(15,15))\n",
    "        plt.yticks(ticks = [0,1,2,3,4,5,6,7,8,9,10,11,12],labels = ['(M,AA,Healthy)', '(M,AA,Overweight)','(M,AA,Obesity)','(M,CAU,Healthy)','(M,CAU,Overweight)','(M,CAU,Obesity)','(F,AA,Healthy)','(F,AA,Overweight)','(F,AA,Obesity)','(F,CAU,Under)','(F,CAU,Healthy)','(F,CAU,Overweight)','(F,CAU,Obesity)'], rotation = 'horizontal')\n",
    "        plt.tick_params(axis='x', colors='black')\n",
    "        plt.tick_params(axis='y', colors='black')\n",
    "        graph_name = graph_title_presence + '.png'\n",
    "        plt.savefig(graph_name, bbox_inches=\"tight\", facecolor=\"white\")\n",
    "        plt.clf()\n"
   ]
  },
  {
   "cell_type": "code",
   "execution_count": null,
   "id": "0a98d5bf",
   "metadata": {},
   "outputs": [],
   "source": []
  }
 ],
 "metadata": {
  "kernelspec": {
   "display_name": "Python 3",
   "language": "python",
   "name": "python3"
  },
  "language_info": {
   "codemirror_mode": {
    "name": "ipython",
    "version": 3
   },
   "file_extension": ".py",
   "mimetype": "text/x-python",
   "name": "python",
   "nbconvert_exporter": "python",
   "pygments_lexer": "ipython3",
   "version": "3.8.8"
  }
 },
 "nbformat": 4,
 "nbformat_minor": 5
}
